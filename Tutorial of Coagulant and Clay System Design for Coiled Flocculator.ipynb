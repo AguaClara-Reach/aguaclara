{
 "cells": [
  {
   "cell_type": "code",
   "execution_count": null,
   "metadata": {
    "collapsed": true
   },
   "outputs": [],
   "source": [
    "######################### Imports #########################\n",
    "import numpy as np\n",
    "\n",
    "from AguaClara_design import physchem as pc\n",
    "from AguaClara_design.units import unit_registry as u\n",
    "from AguaClara_design import utility as ut\n"
   ]
  },
  {
   "cell_type": "code",
   "execution_count": null,
   "metadata": {
    "collapsed": true
   },
   "outputs": [],
   "source": [
    "#This pump rotor radius was set based on minimizing the error between predicted and measured values.\n",
    "# This is for the 6 roller pump heads.\n",
    "RADIUS_PUMP = 1.62*u.cm\n",
    "\n",
    "#This corrects for the fact that larger diameter tubing has more loss due to the space smashed by the rollers\n",
    "#I'm actually not quite sure what this mechanism is..\n",
    "#This was set based on minimizing the error between predicted and measured values.\n",
    "K_NONLINEAR = 13"
   ]
  },
  {
   "cell_type": "code",
   "execution_count": null,
   "metadata": {
    "collapsed": true
   },
   "outputs": [],
   "source": [
    "TUBE_CODE = [\"orange=black\",\"orange-red\",\"orange-blue\",\"orange-green\",\"green-yellow\",\"orange-yellow\"]"
   ]
  }
 ],
 "metadata": {
  "kernelspec": {
   "display_name": "Python 3",
   "language": "python",
   "name": "python3"
  },
  "language_info": {
   "codemirror_mode": {
    "name": "ipython",
    "version": 3
   },
   "file_extension": ".py",
   "mimetype": "text/x-python",
   "name": "python",
   "nbconvert_exporter": "python",
   "pygments_lexer": "ipython3",
   "version": "3.6.1"
  }
 },
 "nbformat": 4,
 "nbformat_minor": 2
}
