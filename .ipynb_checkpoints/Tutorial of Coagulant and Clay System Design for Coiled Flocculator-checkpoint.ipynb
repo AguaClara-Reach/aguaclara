{
 "cells": [
  {
   "cell_type": "code",
   "execution_count": 31,
   "metadata": {},
   "outputs": [],
   "source": [
    "######################### Imports #########################\n",
    "import math\n",
    "import numpy as np\n",
    "try:\n",
    "    from units import unit_registry as u\n",
    "except ModuleNotFoundError:\n",
    " \n",
    "  from AguaClara_design.units import unit_registry as u\n"
   ]
  },
  {
   "cell_type": "code",
   "execution_count": 32,
   "metadata": {
    "collapsed": true
   },
   "outputs": [],
   "source": [
    "#This pump rotor radius was set based on minimizing the error between predicted and measured values.\n",
    "# This is for the 6 roller pump heads.\n",
    "RADIUS_PUMP = 1.62*u.cm\n",
    "\n",
    "#This corrects for the fact that larger diameter tubing has more loss due to the space smashed by the rollers\n",
    "#I'm actually not quite sure what this mechanism is..\n",
    "#This was set based on minimizing the error between predicted and measured values.\n",
    "K_NONLINEAR = 13\n",
    "\n",
    "REV = 6.238\n",
    "\n"
   ]
  },
  {
   "cell_type": "code",
   "execution_count": 33,
   "metadata": {},
   "outputs": [],
   "source": [
    "TUBE_CODE = [\"orange=black\",\"orange-red\",\"orange-blue\",\"orange-green\",\"green-yellow\",\"orange-yellow\",\"white-yellow\",\"orange-white\",\"black-black\",\"orange-orange\",\"white-black\",\"white-white\",\"white-red\",\"red-red\",\"red-grey\",\"grey-grey\",\"yellow-yellow\",\"yellow-blue\",\"blue-blue\",\"blue-green\",\"green-green\",\"purple-purple\",\"purple-black\",\"purple-orange\",\"purple-orange\",\"purple-white\",\"black-white\"]\n",
    "\n",
    "ID_TUBE_ARRAY = [0.13,0.19,0.25,0.38,0.44,0.51,0.57,0.64,0.76,0.89,0.95,1.02,1.09,1.14,1.22,1.30,1.42,1.52,1.65,1.75,1.85,2.06,2.29,2.54,2.62,2.79,3.17]*u.mm\n",
    "\n",
    "FLOW_TUBE_PER_REV = [0.001383333,0.002833333,0.004833333,0.010833333,0.014333333,0.02,0.023333333,0.03,0.041666667,0.056666667,0.063333333,0.073333333,0.083333333,0.09,0.101666667,0.115,0.133333333,0.151666667,0.166666667,0.183333333,0.216666667,0.25,0.283333333,0.333333333,0.366666667,0.401,0.433333333]*u.mL/REV\n",
    "\n",
    "TUBING_DATA = [TUBE_CODE, ID_TUBE_ARRAY, FLOW_TUBE_PER_REV]\n",
    "\n"
   ]
  },
  {
   "cell_type": "code",
   "execution_count": 34,
   "metadata": {
    "collapsed": true
   },
   "outputs": [],
   "source": [
    "#The function below returns the flow per revolution given the ID of the 3-stop tubing.\n",
    "#This function returns values that are very close to the table produced by ismatec.\n",
    "\n",
    "def flow_6roller_tube_per_rev_calc(ID_tube):\n",
    "    \"\"\"returns the flow per revolution given the ID of the 3-stop tubing.\n",
    "    This function returns values that are very close to the table produced by ismatec.\"\"\"\n",
    "    \n",
    "    return (((RADIUS_PUMP*math.pi*2)-(K_NONLINEAR*ID_tube))/(REV)*((ID_tube)**2*math.pi/4))\n",
    "\n",
    "#In the lab we currently have orange-yellow, yellow-blue, and purple-white tubing\n",
    "    "
   ]
  },
  {
   "attachments": {},
   "cell_type": "markdown",
   "metadata": {},
   "source": [
    "# Determining Q.floc:"
   ]
  },
  {
   "cell_type": "code",
   "execution_count": 35,
   "metadata": {
    "collapsed": true
   },
   "outputs": [],
   "source": [
    "FLOW_PLANT = 7*u.mL/u.s"
   ]
  },
  {
   "cell_type": "markdown",
   "metadata": {},
   "source": [
    "### Mixing"
   ]
  },
  {
   "cell_type": "markdown",
   "metadata": {},
   "source": [
    "Clay"
   ]
  },
  {
   "cell_type": "code",
   "execution_count": null,
   "metadata": {
    "collapsed": true
   },
   "outputs": [],
   "source": [
    "#Turbidity (NTU) of the expected influen\n",
    "NTU = 1.7*u.mg/u.L\n",
    "\n",
    "#The concentration of clay in the mixed water in the flocculator.\n",
    "CONC_CLAY = 100*NTU\n",
    "\n",
    "#This is for a 100 rpm pump and is designed to get the pump operating \n",
    "#at an rpm where it has good speed control\n",
    "#and it has the ability to be adjusted up or down as needed. \n",
    "#Some of our pumps have a minimum speed of about 2.3 rpm.\n",
    "MIN_RPM = 3*REV/u.min\n",
    "MAX_RPM = 95*REV/u.min\n",
    "\n",
    "CLAY_TUBING_COLORS = \"yellow-blue\" #yellow blue tubing\n",
    "\n",
    "ID_CLAY_TUBING = ID_TUBE_ARRAY \n",
    "\n"
   ]
  }
 ],
 "metadata": {
  "kernelspec": {
   "display_name": "Python 3",
   "language": "python",
   "name": "python3"
  },
  "language_info": {
   "codemirror_mode": {
    "name": "ipython",
    "version": 3
   },
   "file_extension": ".py",
   "mimetype": "text/x-python",
   "name": "python",
   "nbconvert_exporter": "python",
   "pygments_lexer": "ipython3",
   "version": "3.6.1"
  }
 },
 "nbformat": 4,
 "nbformat_minor": 2
}
