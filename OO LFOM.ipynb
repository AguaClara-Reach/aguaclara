{
 "cells": [
  {
   "cell_type": "code",
   "execution_count": 6,
   "metadata": {
    "collapsed": true
   },
   "outputs": [],
   "source": [
    "#Here we import packages that we will need for this notebook. You can find out about these packages in the Help menu.\n",
    "\n",
    "# although math is \"built in\" it needs to be imported so it's functions can be used.\n",
    "import math\n",
    "\n",
    "from scipy import constants, interpolate\n",
    "\n",
    "#see numpy cheat sheet https://www.dataquest.io/blog/images/cheat-sheets/numpy-cheat-sheet.pdf\n",
    "#The numpy import is needed because it is renamed here as np.\n",
    "import numpy as np\n",
    "\n",
    "import pandas as pd\n",
    "\n",
    "import matplotlib.pyplot as plt\n",
    "\n",
    "# sys and os give us access to operating system directory paths and to sys paths.\n",
    "import sys, os\n",
    "\n",
    "# If you place your GitHub directory in your documents folder and \n",
    "# clone both the design challenge notebook and the AguaClara_design repo, then this code should all work.\n",
    "# If you have your GitHub directory at a different location on your computer, \n",
    "# then you will need to adjust the directory path below.\n",
    "# add the path to your GitHub directory so that python can find files in other contained folders.\n",
    "myGitHubdir=os.path.expanduser('~\\\\Documents\\\\Github')\n",
    "if myGitHubdir not in sys.path:\n",
    "    sys.path.append(myGitHubdir)\n",
    "\n",
    "# add imports for AguaClara code that will be needed\n",
    "# physchem has functions related to hydraulics, fractal flocs, flocculation, sedimentation, etc.\n",
    "from AguaClara_design import physchem as pc\n",
    "\n",
    "# pipedatabase has functions related to pipe diameters\n",
    "from AguaClara_design import pipedatabase as pipe\n",
    "\n",
    "# units allows us to include units in all of our calculations\n",
    "from AguaClara_design.units import unit_registry as u\n",
    "\n",
    "# utility has the significant digit display function\n",
    "from AguaClara_design import utility as ut\n",
    "\n",
    "ratio_VC_orifice= 0.62"
   ]
  },
  {
   "cell_type": "markdown",
   "metadata": {},
   "source": [
    "The linear flow orifice meter was developed in 2008 by the AguaClara team at Cornell University in Ithaca, NY. It maintains a linear relationship between the height of water in the entrance tank and the overall plant flow rate, allowing an operator to easily determine how much water is flowing through the plant at any given time. This task is accomplished by mimicking the theoretical stout weir, as will be described below.\n",
    "The LFOM made possible the development of an automatic chemical dose controller. This device utilizes the linear relationship between height and flow rate provided by the LFOM, and automatically doses the proper amount of coagulant to water leaving the entrance tank.\n",
    "Below, we describe the algorithm which designs the AguaClara LFOM and then develop this algorithm using Mathcad code."
   ]
  },
  {
   "cell_type": "code",
   "execution_count": 7,
   "metadata": {
    "collapsed": true
   },
   "outputs": [],
   "source": [
    "# The following constants need to go into the constants file\n",
    "Pi_LFOM_safety = 1.2\n",
    "# pipe schedule for LFOM\n",
    "SDR_LFOM = 26\n",
    "\n",
    "FLOW = 5*u.L/u.s\n",
    "HL_LFOM = 20*u.cm\n",
    "\n",
    "from enum import Enum\n",
    "\n",
    "class uomeasure(Enum):\n",
    "    english = 0\n",
    "    metric = 1\n",
    "\n",
    "def drill_series(uomeasure):\n",
    "    if uomeasure is uomeasure.english:\n",
    "        ds=np.arange(1/32, 1/4, 1/32)\n",
    "        ds=np.append(ds,np.arange(3/8, 1, 1/8))\n",
    "        ds=np.append(ds,np.arange(1.25, 3.25, 1/4))\n",
    "        ds=ds*u.inch\n",
    "    else:\n",
    "        ds=np.arange(0.5, 4.9, 0.1)\n",
    "        ds=np.append(ds,np.arange(5, 19, 1))\n",
    "        ds=np.append(ds,np.arange(20, 50, 2))\n",
    "        ds=ds*u.mm\n",
    "    return ds\n",
    "\n",
    "drill_series_uom = uomeasure\n",
    "\n",
    "# Take the values of the array, compare to x, find the index of the first value less than or equal to x\n",
    "def floor_nearest(x,array):\n",
    "    myindex = np.argmax(array <= x)\n",
    "    return array[myindex]\n",
    "\n",
    "# Take the values of the array, compare to x, find the index of the first value greater or equal to x\n",
    "def ceil_nearest(x,array):\n",
    "    myindex = np.argmax(array >= x)\n",
    "    return array[myindex]"
   ]
  },
  {
   "cell_type": "code",
   "execution_count": 8,
   "metadata": {
    "collapsed": true
   },
   "outputs": [],
   "source": [
    "class LFOM: \n",
    "\n",
    "\tdef __init__(self, flow, hl, ratio_safety, sdr, drill_series_uom):\n",
    "\t\tself.flow = flow\n",
    "\t\tself.hl = hl \n",
    "\t\tself.ratio_safety = ratio_safety\n",
    "\t\tself.sdr = sdr\n",
    "\t\tself.drill_series_uom = drill_series_uom\n",
    "\n",
    "\tdef set_flow(self, flow):\n",
    "\t\tself.flow = flow\n",
    "\n",
    "\tdef set_hl(self, hl):\n",
    "\t\tself.hl = hl\n",
    "\n",
    "\tdef set_ratio_safety(self, ratio_safety):\n",
    "\t\tself.ratio_safety = ratio_safety\n",
    "\n",
    "\tdef set_sdr(self, sdr):\n",
    "\t\tself.sdr = sdr\n",
    "\n",
    "\tdef set_drill_series(self, drill_series_uom):\n",
    "\t\tself.drill_series_uom = drill_series_uom\n",
    "\n",
    "\n",
    "\tdef width_stout(self, z):\n",
    "\t\treturn 2 / ((2 * u.g_0 * z)**(1/2) * math.pi * self.hl)\n",
    "\n",
    "\tdef n_lfom_rows(self):\n",
    "\t\tn_est = (self.hl * math.pi / (2 * self.width_stout(self.hl) * self.flow)).to(u.dimensionless)\n",
    "\t\treturn min(10, max(4, math.trunc(n_est.magnitude)))\n",
    "\n",
    "\tdef dist_center_lfom_rows(self):\n",
    "\t\treturn self.hl / self.n_lfom_rows()\n",
    "\n",
    "\t# average vertical velocity of the water inside the LFOM pipe \n",
    "    # at the very bottom of the bottom row of orifices\n",
    "    # The speed of falling water is 0.841 m/s for all linear flow orifice meters of height 20cm,\n",
    "    # independent of total plant flow rate.\n",
    "    def vol_lfom_pipe_critical(self):\n",
    "        return (4 / (3 * math.pi) * (2 * u.g_0 * self.hl)**(1/2)).to(u.m/u.s)\n",
    "\n",
    "    def area_lfom_pipe_min(self):\n",
    "        return (self.ratio_safety * self.flow / self.vol_lfom_pipe_critical()).to(u.m**2)\n",
    "\n",
    "    def nom_diam_lfom_pipe(self):\n",
    "        id = pc.diam_circle(self.area_lfom_pipe_min())\n",
    "        return pipe.ND_SDR_available(id, self.sdr)\n",
    "\n",
    "    # another possibility is to use integration to solve this problem.\n",
    "    # Here we use the width of the stout weir in the center of the top row\n",
    "    # to estimate the area of the top orifice\n",
    "    def area_lfom_orifices_max(self):\n",
    "        z = self.hl - 0.5 * self.dist_center_lfom_rows()\n",
    "        return self.flow * self.width_stout(z) * self.dist_center_lfom_rows()\n",
    "\n",
    "    def d_lfom_orifices_max(self):\n",
    "        return pc.diam_circle(self.area_lfom_orifices_max())\n",
    "\n",
    "    def lfom_drillbit_diameter(self):\n",
    "        return ceil_nearest(self.d_lfom_orifices_max(), drill_series(self.drill_series_uom))\n",
    "\n",
    "    def lfom_drillbit_area(self):\n",
    "        return pc.area_circle(self.lfom_drillbit_diameter())\n",
    "\n",
    "    ##A bound on the number of orifices allowed in each row.  \n",
    "    ##The distance between consecutive orifices must be enough to retain structural integrity of the pipe\n",
    "    def n_lfom_orifices_per_row_max(self):\n",
    "        S_lfom_orifices_Min= 3 * u.mm\n",
    "        nom_diam = self.nom_diam_lfom_pipe()\n",
    "        drillbit_diam = self.lfom_drillbit_diameter() + S_lfom_orifices_Min\n",
    "        return math.floor(math.pi * (pipe.ID_SDR(nom_diam, self.sdr)) / (drillbit_diam))\n",
    "\n",
    "    #locations where we will try to get the target flows is in between orifices at elevation Pi.H\n",
    "    def flow_ramp(self):\n",
    "        dist_center = self.dist_center_lfom_rows() / u.cm\n",
    "        return np.arange(dist_center, self.hl / u.cm, dist_center) * self.flow * u.cm / self.hl\n",
    "\n",
    "    def height_lfom_orifices(self):\n",
    "        drillbit_diam = self.lfom_drillbit_diameter() * 0.5\n",
    "        return np.arange(drillbit_diam, self.hl, self.dist_center_lfom_rows(), dtype= object)\n",
    "\n",
    "    #Calculate the flow for a given number of submerged rows of orifices\n",
    "    def flow_lfom_actual(self, Row_Index_Submerged, N_LFOM_Orifices):\n",
    "        D_LFOM_Orifices = self.lfom_drillbit_diameter().to(u.m)\n",
    "        FLOW_new=[]\n",
    "        dist_center = self.dist_center_lfom_rows()\n",
    "        for i in range(Row_Index_Submerged):\n",
    "            h = np.arange(dist_center, self.hl, dist_center, dtype=object)\n",
    "            h = h[Row_Index_Submerged].to(u.m)\n",
    "            d = np.arange(0.5* D_LFOM_Orifices, self.hl, dist_center, dtype=object)\n",
    "            FLOW_new.append(N_LFOM_Orifices[i]*(pc.flow_orifice_vert(D_LFOM_Orifices, h - d[i], ratio_VC_orifice)))\n",
    "        return sum(FLOW_new)\n",
    "\n",
    "    #Calculate number of orifices at each level given a diameter\n",
    "    def fric_n_lfom_orifices(self):\n",
    "        FLOW_ramp_local = self.flow_ramp()\n",
    "        D_LFOM_Orifices = self.lfom_drillbit_diameter()\n",
    "        H_ramp_local = np.arange(D_LFOM_Orifices * 0.5, self.hl, self.dist_center_lfom_rows(), dtype=object)\n",
    "        n = []\n",
    "        for i in range (len(H_ramp_local) - 1):\n",
    "            h = np.arange(self.dist_center_lfom_rows(), self.hl, self.dist_center_lfom_rows(), dtype=object)\n",
    "            d = H_ramp_local\n",
    "            flow_actual = self.flow_lfom_actual(i, n)\n",
    "            if self.nom_diam_lfom_pipe() <= 12 * u.inch:\n",
    "                rounded = round((FLOW_ramp_local[i] - flow_actual) / pc.flow_orifice_vert(D_LFOM_Orifices, h[i] - d[i], ratio_VC_orifice))\n",
    "                n.append(min(max(0, rounded), self.n_lfom_orifices_per_row_max()))\n",
    "            else:\n",
    "                 n.append(max(0,rounded))\n",
    "        return n\n",
    "\n",
    "    #This function calculates the error of the design based on the differences between the predicted flow rate\n",
    "    #and the actual flow rate through the LFOM.\n",
    "    def flow_lfom_error(self):\n",
    "        N_lfom_orifices = self.fric_n_lfom_orifices()\n",
    "        FLOW_lfom_error = []\n",
    "        for j in range (len(N_lfom_orifices) - 1):\n",
    "            flow_actual = self.flow_lfom_actual(j, N_lfom_orifices)\n",
    "            FLOW_lfom_error.append((flow_actual - self.flow_ramp()[j]) / self.flow)\n",
    "        return FLOW_lfom_error\n",
    "\n",
    "    def flow_lfom_error_max(self):\n",
    "        x = max(self.flow_lfom_error())\n",
    "        y = x**2\n",
    "        return y**1/2\n",
    "\n",
    "    def flow_lfom_ideal(self, h):\n",
    "        flow_lfom_ideal=(self.flow * h) / self.hl\n",
    "        return flow_lfom_ideal\n",
    "    \n",
    "    def flow_lfom(self, h):\n",
    "        D_lfom_orifices = self.lfom_drillbit_diameter()\n",
    "        H_submerged = np.arange(h - 0.5 * D_lfom_orifices, self.hl, h - self.dist_center_lfom_rows(), dtype=object)\n",
    "        N_lfom_orifices = self.fric_n_lfom_orifices()\n",
    "        flow = []\n",
    "        for i in range (len(H_submerged)):\n",
    "            flow.append(pc.flow_orifice_vert(D_lfom_orifices, H_submerged[i], ratio_VC_orifice) * N_lfom_orifices[i])\n",
    "        return sum(flow)"
   ]
  },
  {
   "cell_type": "code",
   "execution_count": 9,
   "metadata": {},
   "outputs": [
    {
     "name": "stdout",
     "output_type": "stream",
     "text": [
      "[  0.5   0.6   0.7   0.8   0.9   1.    1.1   1.2   1.3   1.4   1.5   1.6   1.7   1.8   1.9   2.    2.1   2.2   2.3   2.4   2.5   2.6   2.7   2.8   2.9   3.    3.1   3.2   3.3   3.4   3.5   3.6   3.7   3.8   3.9   4.   4.1   4.2   4.3   4.4   4.5   4.6   4.7   4.8   5.    6.    7.    8.   9.   10.   11.   12.   13.   14.   15.   16.   17.   18.   20.   22.  24.   26.   28.   30.   32.   34.   36.   38.   40.   42.   44.   46.  48. ] millimeter\n",
      "[ 0.03125  0.0625   0.09375  0.125    0.15625  0.1875   0.21875  0.375    0.5  0.625    0.75     0.875    1.25     1.5      1.75     2.       2.25     2.5  2.75     3.     ] inch\n",
      "[  0.5   0.6   0.7   0.8   0.9   1.    1.1   1.2   1.3   1.4   1.5   1.6   1.7   1.8   1.9   2.    2.1   2.2   2.3   2.4   2.5   2.6   2.7   2.8   2.9   3.    3.1   3.2   3.3   3.4   3.5   3.6   3.7   3.8   3.9   4.   4.1   4.2   4.3   4.4   4.5   4.6   4.7   4.8   5.    6.    7.    8.   9.   10.   11.   12.   13.   14.   15.   16.   17.   18.   20.   22.  24.   26.   28.   30.   32.   34.   36.   38.   40.   42.   44.   46.  48. ] millimeter\n"
     ]
    }
   ],
   "source": [
    "print(drill_series(drill_series_uom))\n",
    "print(drill_series(drill_series_uom.english))\n",
    "print(drill_series(drill_series_uom.metric))\n"
   ]
  },
  {
   "cell_type": "code",
   "execution_count": 10,
   "metadata": {},
   "outputs": [
    {
     "data": {
      "text/plain": [
       "10"
      ]
     },
     "execution_count": 10,
     "metadata": {},
     "output_type": "execute_result"
    }
   ],
   "source": [
    "# testing to make sure everything still is the same\n",
    "\n",
    "lfom = LFOM()\n",
    "\n",
    "lfom.n_lfom_rows(FLOW,HL_LFOM)"
   ]
  },
  {
   "cell_type": "code",
   "execution_count": 28,
   "metadata": {},
   "outputs": [
    {
     "data": {
      "text/html": [
       "0.008035812563075291 dimensionless"
      ],
      "text/latex": [
       "$0.008035812563075291\\ dimensionless$"
      ],
      "text/plain": [
       "<Quantity(0.008035812563075291, 'dimensionless')>"
      ]
     },
     "execution_count": 28,
     "metadata": {},
     "output_type": "execute_result"
    }
   ],
   "source": [
    "(lfom.width_stout(HL_LFOM,HL_LFOM)*FLOW).to(u.m)/u.m"
   ]
  },
  {
   "cell_type": "code",
   "execution_count": 29,
   "metadata": {},
   "outputs": [
    {
     "data": {
      "text/html": [
       "2.0 centimeter"
      ],
      "text/latex": [
       "$2.0\\ \\mathrm{centimeter}$"
      ],
      "text/plain": [
       "<Quantity(2.0, 'centimeter')>"
      ]
     },
     "execution_count": 29,
     "metadata": {},
     "output_type": "execute_result"
    }
   ],
   "source": [
    "lfom.dist_center_lfom_rows(FLOW,HL_LFOM)"
   ]
  },
  {
   "cell_type": "code",
   "execution_count": 30,
   "metadata": {},
   "outputs": [
    {
     "data": {
      "text/html": [
       "0.8405802802312781 meter/second"
      ],
      "text/latex": [
       "$0.8405802802312781\\ \\frac{\\mathrm{meter}}{\\mathrm{second}}$"
      ],
      "text/plain": [
       "<Quantity(0.8405802802312781, 'meter / second')>"
      ]
     },
     "execution_count": 30,
     "metadata": {},
     "output_type": "execute_result"
    }
   ],
   "source": [
    "lfom.vol_lfom_pipe_critical(HL_LFOM)"
   ]
  },
  {
   "cell_type": "code",
   "execution_count": 31,
   "metadata": {},
   "outputs": [
    {
     "data": {
      "text/html": [
       "0.007137926193497133 meter<sup>2</sup>"
      ],
      "text/latex": [
       "$0.007137926193497133\\ \\mathrm{meter}^{2}$"
      ],
      "text/plain": [
       "<Quantity(0.007137926193497133, 'meter ** 2')>"
      ]
     },
     "execution_count": 31,
     "metadata": {},
     "output_type": "execute_result"
    }
   ],
   "source": [
    "lfom.area_lfom_pipe_min(FLOW,HL_LFOM,Pi_LFOM_safety)"
   ]
  },
  {
   "cell_type": "code",
   "execution_count": 32,
   "metadata": {},
   "outputs": [
    {
     "data": {
      "text/html": [
       "6.0 inch"
      ],
      "text/latex": [
       "$6.0\\ \\mathrm{inch}$"
      ],
      "text/plain": [
       "<Quantity(6.0, 'inch')>"
      ]
     },
     "execution_count": 32,
     "metadata": {},
     "output_type": "execute_result"
    }
   ],
   "source": [
    "lfom.nom_diam_lfom_pipe(11*u.L/u.s,HL_LFOM,Pi_LFOM_safety,SDR_LFOM)"
   ]
  },
  {
   "cell_type": "code",
   "execution_count": 33,
   "metadata": {},
   "outputs": [
    {
     "data": {
      "text/html": [
       "8.244569731129168 millimeter"
      ],
      "text/latex": [
       "$8.244569731129168\\ \\mathrm{millimeter}$"
      ],
      "text/plain": [
       "<Quantity(8.244569731129168, 'millimeter')>"
      ]
     },
     "execution_count": 33,
     "metadata": {},
     "output_type": "execute_result"
    }
   ],
   "source": [
    "(FLOW*lfom.width_stout(HL_LFOM,HL_LFOM-0.5*lfom.dist_center_lfom_rows(FLOW,HL_LFOM))).to(u.mm)"
   ]
  },
  {
   "cell_type": "code",
   "execution_count": 34,
   "metadata": {},
   "outputs": [
    {
     "data": {
      "text/html": [
       "14.489521876859984 millimeter"
      ],
      "text/latex": [
       "$14.489521876859984\\ \\mathrm{millimeter}$"
      ],
      "text/plain": [
       "<Quantity(14.489521876859984, 'millimeter')>"
      ]
     },
     "execution_count": 34,
     "metadata": {},
     "output_type": "execute_result"
    }
   ],
   "source": [
    "(lfom.d_lfom_orifices_max(FLOW,HL_LFOM)).to(u.mm)"
   ]
  },
  {
   "cell_type": "code",
   "execution_count": 14,
   "metadata": {},
   "outputs": [
    {
     "name": "stdout",
     "output_type": "stream",
     "text": [
      "0.625 inch\n",
      "15.0 millimeter\n",
      "15.0 millimeter\n"
     ]
    }
   ],
   "source": [
    "print(lfom.lfom_drillbit_diameter(FLOW,HL_LFOM,drill_series_uom.english))\n",
    "print(lfom.lfom_drillbit_diameter(FLOW,HL_LFOM,drill_series_uom.metric))\n",
    "print(lfom.lfom_drillbit_diameter(FLOW,HL_LFOM,drill_series_uom))"
   ]
  },
  {
   "cell_type": "code",
   "execution_count": 15,
   "metadata": {},
   "outputs": [
    {
     "name": "stdout",
     "output_type": "stream",
     "text": [
      "0.30679615757712825 inch ** 2\n",
      "176.71458676442586 millimeter ** 2\n",
      "176.71458676442586 millimeter ** 2\n"
     ]
    }
   ],
   "source": [
    "print(lfom.lfom_drillbit_area(FLOW,HL_LFOM,drill_series_uom.english))\n",
    "print(lfom.lfom_drillbit_area(FLOW,HL_LFOM,drill_series_uom.metric))\n",
    "print(lfom.lfom_drillbit_area(FLOW,HL_LFOM,drill_series_uom))"
   ]
  },
  {
   "cell_type": "code",
   "execution_count": 37,
   "metadata": {},
   "outputs": [
    {
     "data": {
      "text/plain": [
       "18"
      ]
     },
     "execution_count": 37,
     "metadata": {},
     "output_type": "execute_result"
    }
   ],
   "source": [
    "lfom.n_lfom_orifices_per_row_max(FLOW,HL_LFOM,drill_series_uom.metric,SDR_LFOM)"
   ]
  },
  {
   "cell_type": "code",
   "execution_count": 38,
   "metadata": {},
   "outputs": [
    {
     "data": {
      "text/html": [
       "\\[\\begin{pmatrix}0.5 & 1.0 & 1.5 & 2.0 & 2.5 & 3.0 & 3.5 & 4.0 & 4.5\\end{pmatrix} liter/second\\]"
      ],
      "text/latex": [
       "$\\begin{pmatrix}0.5 & 1.0 & 1.5 & 2.0 & 2.5 & 3.0 & 3.5 & 4.0 & 4.5\\end{pmatrix}\\ \\frac{\\mathrm{liter}}{\\mathrm{second}}$"
      ],
      "text/plain": [
       "<Quantity([ 0.5  1.   1.5  2.   2.5  3.   3.5  4.   4.5], 'liter / second')>"
      ]
     },
     "execution_count": 38,
     "metadata": {},
     "output_type": "execute_result"
    }
   ],
   "source": [
    "lfom.flow_ramp(FLOW,HL_LFOM)"
   ]
  },
  {
   "cell_type": "code",
   "execution_count": 39,
   "metadata": {},
   "outputs": [
    {
     "data": {
      "text/plain": [
       "array([<Quantity(7.5, 'millimeter')>, <Quantity(27.5, 'millimeter')>,\n",
       "       <Quantity(47.5, 'millimeter')>, <Quantity(67.5, 'millimeter')>,\n",
       "       <Quantity(87.5, 'millimeter')>, <Quantity(107.5, 'millimeter')>,\n",
       "       <Quantity(127.5, 'millimeter')>, <Quantity(147.5, 'millimeter')>,\n",
       "       <Quantity(167.5, 'millimeter')>, <Quantity(187.5, 'millimeter')>], dtype=object)"
      ]
     },
     "execution_count": 39,
     "metadata": {},
     "output_type": "execute_result"
    }
   ],
   "source": [
    "lfom.height_lfom_orifices(FLOW,HL_LFOM,drill_series_uom.metric) "
   ]
  },
  {
   "cell_type": "code",
   "execution_count": 40,
   "metadata": {},
   "outputs": [
    {
     "data": {
      "text/plain": [
       "[<Quantity(9.0, 'dimensionless')>,\n",
       " <Quantity(4.0, 'dimensionless')>,\n",
       " <Quantity(3.0, 'dimensionless')>,\n",
       " <Quantity(2.0, 'dimensionless')>,\n",
       " <Quantity(3.0, 'dimensionless')>,\n",
       " <Quantity(1.0, 'dimensionless')>,\n",
       " <Quantity(3.0, 'dimensionless')>,\n",
       " <Quantity(1.0, 'dimensionless')>,\n",
       " <Quantity(1.0, 'dimensionless')>]"
      ]
     },
     "execution_count": 40,
     "metadata": {},
     "output_type": "execute_result"
    }
   ],
   "source": [
    "lfom.fric_n_lfom_orifices(FLOW,HL_LFOM,drill_series_uom,SDR_LFOM)"
   ]
  },
  {
   "cell_type": "code",
   "execution_count": 41,
   "metadata": {},
   "outputs": [
    {
     "data": {
      "text/plain": [
       "[<Quantity(-0.1, 'dimensionless')>,\n",
       " <Quantity(-0.04281022675343118, 'dimensionless')>,\n",
       " <Quantity(-0.03014536546205875, 'dimensionless')>,\n",
       " <Quantity(-0.023627100599359574, 'dimensionless')>,\n",
       " <Quantity(-0.028341082805428908, 'dimensionless')>,\n",
       " <Quantity(-0.013856233840633347, 'dimensionless')>,\n",
       " <Quantity(-0.027031604731054416, 'dimensionless')>,\n",
       " <Quantity(-0.008034482759309292, 'dimensionless')>]"
      ]
     },
     "execution_count": 41,
     "metadata": {},
     "output_type": "execute_result"
    }
   ],
   "source": [
    "lfom.flow_lfom_error(FLOW,HL_LFOM,drill_series_uom,SDR_LFOM)"
   ]
  },
  {
   "cell_type": "code",
   "execution_count": 42,
   "metadata": {},
   "outputs": [
    {
     "data": {
      "text/html": [
       "3.227645660481912e-05 dimensionless"
      ],
      "text/latex": [
       "$3.227645660481912e-05\\ dimensionless$"
      ],
      "text/plain": [
       "<Quantity(3.227645660481912e-05, 'dimensionless')>"
      ]
     },
     "execution_count": 42,
     "metadata": {},
     "output_type": "execute_result"
    }
   ],
   "source": [
    "lfom.flow_lfom_error_max(FLOW, HL_LFOM, drill_series_uom, SDR_LFOM)"
   ]
  },
  {
   "cell_type": "code",
   "execution_count": 43,
   "metadata": {},
   "outputs": [
    {
     "data": {
      "text/html": [
       "0.75 liter/(centimeter second)"
      ],
      "text/latex": [
       "$0.75\\ \\frac{\\mathrm{liter}}{\\left(\\mathrm{centimeter} \\cdot \\mathrm{second}\\right)}$"
      ],
      "text/plain": [
       "<Quantity(0.75, 'liter / centimeter / second')>"
      ]
     },
     "execution_count": 43,
     "metadata": {},
     "output_type": "execute_result"
    }
   ],
   "source": [
    "lfom.flow_lfom_ideal(FLOW,HL_LFOM,3)"
   ]
  },
  {
   "cell_type": "code",
   "execution_count": 44,
   "metadata": {},
   "outputs": [
    {
     "data": {
      "text/html": [
       "3.04063042951175 liter/second"
      ],
      "text/latex": [
       "$3.04063042951175\\ \\frac{\\mathrm{liter}}{\\mathrm{second}}$"
      ],
      "text/plain": [
       "<Quantity(3.04063042951175, 'liter / second')>"
      ]
     },
     "execution_count": 44,
     "metadata": {},
     "output_type": "execute_result"
    }
   ],
   "source": [
    "lfom.flow_lfom(FLOW,HL_LFOM,drill_series_uom,SDR_LFOM,5*u.cm)"
   ]
  },
  {
   "cell_type": "code",
   "execution_count": 46,
   "metadata": {},
   "outputs": [
    {
     "name": "stdout",
     "output_type": "stream",
     "text": [
      "[<Quantity(7.5, 'millimeter')> <Quantity(27.5, 'millimeter')>\n",
      " <Quantity(47.5, 'millimeter')> <Quantity(67.5, 'millimeter')>\n",
      " <Quantity(87.5, 'millimeter')> <Quantity(107.5, 'millimeter')>\n",
      " <Quantity(127.5, 'millimeter')> <Quantity(147.5, 'millimeter')>\n",
      " <Quantity(167.5, 'millimeter')> <Quantity(187.5, 'millimeter')>]\n",
      "[<Quantity(9.0, 'dimensionless')>, <Quantity(4.0, 'dimensionless')>, <Quantity(3.0, 'dimensionless')>, <Quantity(2.0, 'dimensionless')>, <Quantity(3.0, 'dimensionless')>, <Quantity(1.0, 'dimensionless')>, <Quantity(3.0, 'dimensionless')>, <Quantity(1.0, 'dimensionless')>, <Quantity(1.0, 'dimensionless')>]\n",
      "9\n"
     ]
    }
   ],
   "source": [
    "HEIGHT_LFOM_ORIFICES=lfom.height_lfom_orifices(FLOW,HL_LFOM,drill_series_uom)\n",
    "if FLOW==1.6*(u.L/u.s):\n",
    "   NOM_DIAM_RAPID_MIX_pipe=2*u.inch\n",
    "else:\n",
    "   NOM_DIAM_RAPID_MIX_pipe=lfom.nom_diam_lfom_pipe(11*u.L/u.s,HL_LFOM,Pi_LFOM_safety,SDR_LFOM)\n",
    "N_LFOM_ORIFICES=lfom.fric_n_lfom_orifices(FLOW,HL_LFOM,drill_series_uom,SDR_LFOM)\n",
    "N_LFOM_ROWS=len(N_LFOM_ORIFICES)\n",
    "\n",
    "print(HEIGHT_LFOM_ORIFICES)\n",
    "print(N_LFOM_ORIFICES)\n",
    "print(N_LFOM_ROWS)"
   ]
  },
  {
   "cell_type": "code",
   "execution_count": null,
   "metadata": {
    "collapsed": true
   },
   "outputs": [],
   "source": []
  }
 ],
 "metadata": {
  "kernelspec": {
   "display_name": "Python 3",
   "language": "python",
   "name": "python3"
  },
  "language_info": {
   "codemirror_mode": {
    "name": "ipython",
    "version": 3
   },
   "file_extension": ".py",
   "mimetype": "text/x-python",
   "name": "python",
   "nbconvert_exporter": "python",
   "pygments_lexer": "ipython3",
   "version": "3.6.1"
  }
 },
 "nbformat": 4,
 "nbformat_minor": 2
}
