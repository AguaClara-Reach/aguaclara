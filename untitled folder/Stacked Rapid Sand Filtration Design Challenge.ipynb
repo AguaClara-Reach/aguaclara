{
 "cells": [
  {
   "cell_type": "markdown",
   "metadata": {},
   "source": [
    "#Stacked Rapid Sand Filtration Design Challenge\n",
    "\n",
    "The stacked rapid sand filter at Tamara is treating 12 L/s with 6 20 cm deep layers of sand with effective size 0.5 mm and uniformity coefficient of 1.6. The backwash velocity is 11 mm/s. I've defined many of the necessary inputs for the filtration analysis below\n",
    "\n"
   ]
  },
  {
   "cell_type": "code",
   "execution_count": 1,
   "metadata": {},
   "outputs": [
    {
     "ename": "ModuleNotFoundError",
     "evalue": "No module named 'AguaClara_design'",
     "output_type": "error",
     "traceback": [
      "\u001b[0;31m---------------------------------------------------------------------------\u001b[0m",
      "\u001b[0;31mModuleNotFoundError\u001b[0m                       Traceback (most recent call last)",
      "\u001b[0;32m<ipython-input-1-f07375a34557>\u001b[0m in \u001b[0;36m<module>\u001b[0;34m()\u001b[0m\n\u001b[1;32m     15\u001b[0m     \u001b[0msys\u001b[0m\u001b[0;34m.\u001b[0m\u001b[0mpath\u001b[0m\u001b[0;34m.\u001b[0m\u001b[0mappend\u001b[0m\u001b[0;34m(\u001b[0m\u001b[0mmyGitHubdir\u001b[0m\u001b[0;34m)\u001b[0m\u001b[0;34m\u001b[0m\u001b[0m\n\u001b[1;32m     16\u001b[0m \u001b[0;34m\u001b[0m\u001b[0m\n\u001b[0;32m---> 17\u001b[0;31m \u001b[0;32mfrom\u001b[0m \u001b[0mAguaClara_design\u001b[0m \u001b[0;32mimport\u001b[0m \u001b[0mphyschem\u001b[0m \u001b[0;32mas\u001b[0m \u001b[0mpc\u001b[0m\u001b[0;34m\u001b[0m\u001b[0m\n\u001b[0m\u001b[1;32m     18\u001b[0m \u001b[0;34m\u001b[0m\u001b[0m\n\u001b[1;32m     19\u001b[0m \u001b[0;32mfrom\u001b[0m \u001b[0mAguaClara_design\u001b[0m \u001b[0;32mimport\u001b[0m \u001b[0mpipedatabase\u001b[0m \u001b[0;32mas\u001b[0m \u001b[0mpipe\u001b[0m\u001b[0;34m\u001b[0m\u001b[0m\n",
      "\u001b[0;31mModuleNotFoundError\u001b[0m: No module named 'AguaClara_design'"
     ]
    }
   ],
   "source": [
    "import math\n",
    "\n",
    "from scipy import constants, interpolate\n",
    "\n",
    "import numpy as np\n",
    "\n",
    "import pandas as pd\n",
    "\n",
    "import matplotlib.pyplot as plt\n",
    "\n",
    "import sys, os\n",
    "\n",
    "import os.path\n",
    "dir_path = os.path.dirname(__file__)\n",
    "csv_path = os.path.join(dir_path, 'SRSF.csv')\n",
    "with open(csv_path) as srsf:\n",
    "    srsf = pd.read_csv(srsf)\n",
    "\n",
    "\n",
    "myGitHubdir=os.path.expanduser('~\\\\Documents\\\\GitHub')\n",
    "if myGitHubdir not in sys.path:\n",
    "    sys.path.append(myGitHubdir)\n",
    "\n",
    "from AguaClara_design import physchem as pc\n",
    "\n",
    "from AguaClara_design import pipedatabase as pipe\n",
    "\n",
    "from AguaClara_design.units import unit_registry as u\n",
    "\n",
    "from AguaClara_design import utility as ut"
   ]
  },
  {
   "cell_type": "code",
   "execution_count": null,
   "metadata": {
    "collapsed": true
   },
   "outputs": [],
   "source": [
    "FLOW_PLANT = 12 * u.L / u.s\n",
    "RHO_FILTER_SAND = 2650 * u.kg / u.m**3\n",
    "K_KOZENY = 5\n",
    "HEIGHT_FILTER_LAYER = 20 * u.cm\n",
    "RHO_WATER = 1000 * u.kg / u.m**3\n",
    "NU_WATER = 1 *u.mm**2 / u.s\n",
    "N_FILTER_LAYER = 6\n",
    "DEPTH_FILTER_SAND_EFFECTIVE_SIZE = 0.5 * u.mm\n",
    "UNIFORMITY_COEFF_FILTER_SAND = 1.6\n",
    "PHI_FILTER_SAND = 0.4\n",
    "VELOCITY_FILTER_BACKWASH = 11 * u.mm / u.s\n",
    "g = 9.80665 * u.m / u.s**2"
   ]
  },
  {
   "cell_type": "markdown",
   "metadata": {},
   "source": [
    "1) Calculate the total sand depth."
   ]
  },
  {
   "cell_type": "code",
   "execution_count": null,
   "metadata": {
    "collapsed": true
   },
   "outputs": [],
   "source": [
    "HEIGHT_FILTER = (HEIGHT_FILTER_LAYER * N_FILTER_LAYER).to(u.m)\n",
    "\n",
    "print(\"#1. \" + str(HEIGHT_FILTER) + \"\\n\")"
   ]
  },
  {
   "cell_type": "markdown",
   "metadata": {},
   "source": [
    "2) Calculate the D.60 for the sand grain size.\n"
   ]
  },
  {
   "cell_type": "code",
   "execution_count": null,
   "metadata": {
    "collapsed": true
   },
   "outputs": [],
   "source": [
    "DEPTH_FILTER_SAND_60 = DEPTH_FILTER_SAND_EFFECTIVE_SIZE * UNIFORMITY_COEFF_FILTER_SAND\n",
    "print(\"#2. \" + str(DEPTH_FILTER_SAND_60) + \"\\n\")"
   ]
  },
  {
   "cell_type": "markdown",
   "metadata": {},
   "source": [
    "3) What is the filter bed plan view area for Tamara?"
   ]
  },
  {
   "cell_type": "code",
   "execution_count": null,
   "metadata": {
    "collapsed": true
   },
   "outputs": [],
   "source": [
    "AREA_FILTER = (FLOW_PLANT / VELOCITY_FILTER_BACKWASH).to(u.m**2)\n",
    "print(\"#3. \" + str(AREA_FILTER) + \"\\n\")"
   ]
  },
  {
   "cell_type": "markdown",
   "metadata": {},
   "source": [
    "4) What is the filtration velocity?"
   ]
  },
  {
   "cell_type": "code",
   "execution_count": null,
   "metadata": {
    "collapsed": true
   },
   "outputs": [],
   "source": [
    "VELOCITY_FILTER = VELOCITY_FILTER_BACKWASH / N_FILTER_LAYER\n",
    "print(\"#4. \" + str(VELOCITY_FILTER) + \"\\n\")"
   ]
  },
  {
   "cell_type": "markdown",
   "metadata": {},
   "source": [
    "5) What is the head loss thorugh the filter at the beginning of the filtration run with a clean filter bed?"
   ]
  },
  {
   "cell_type": "code",
   "execution_count": null,
   "metadata": {
    "collapsed": true
   },
   "outputs": [],
   "source": [
    "def head_loss_kozeny(epsilon_filter_sand, depth_filter_sand, velocity_filter, height_filter):\n",
    "    return (36*K_KOZENY*((1 - epsilon_filter_sand)**2 / epsilon_filter_sand**3) * (NU_WATER*velocity_filter)/(g * depth_filter_sand**2)* height_filter).to(u.cm)\n",
    "\n",
    "HEAD_LOSS_FILTER_SAND_CLEAN = head_loss_kozeny(PHI_FILTER_SAND, DEPTH_FILTER_SAND_60, VELOCITY_FILTER, HEIGHT_FILTER_LAYER)\n",
    "print(\"#5. \" + str(HEAD_LOSS_FILTER_SAND_CLEAN) + \"\\n\")"
   ]
  },
  {
   "cell_type": "markdown",
   "metadata": {},
   "source": [
    "6)Estimate the minimum fluidization velocity for this filter bed. Note that this is not the actual velocity used for backwashing the sand.\n"
   ]
  },
  {
   "cell_type": "code",
   "execution_count": null,
   "metadata": {
    "collapsed": true
   },
   "outputs": [],
   "source": [
    "def velocity_backwash_min(epsilon, depth_filter_sand_60):\n",
    "    return ((epsilon**3 * g * depth_filter_sand_60**2)/(36*K_KOZENY*NU_WATER*(1-epsilon))*(RHO_FILTER_SAND/RHO_WATER-1)).to(u.mm/u.s)\n",
    "print(\"#6. \" + str(velocity_backwash_min(PHI_FILTER_SAND, DEPTH_FILTER_SAND_60)) + \"\\n\")\n"
   ]
  },
  {
   "cell_type": "markdown",
   "metadata": {},
   "source": [
    "7)What is the residence time in the fluidized bed during backwash? You may assume the expansion ratio is 1.3."
   ]
  },
  {
   "cell_type": "code",
   "execution_count": null,
   "metadata": {
    "collapsed": true
   },
   "outputs": [],
   "source": [
    "II_FILTER_BACKWASH_EXPANSION = 1.3\n",
    "def theta_filter_backwash():\n",
    "    return (PHI_FILTER_SAND * HEIGHT_FILTER + (II_FILTER_BACKWASH_EXPANSION - 1)*HEIGHT_FILTER)/VELOCITY_FILTER_BACKWASH\n",
    "\n",
    "print(\"#7. \" + str(theta_filter_backwash())+ \"\\n\")"
   ]
  },
  {
   "cell_type": "markdown",
   "metadata": {},
   "source": [
    "8)Our next goal is to determine what fraction of the water is wasted due to backwash in a SRSF. Given that the backwash water that ends up above the filter bed never returns to the filter it isn't necessary to completely clear the water above the filter bed during a backwash cycle. Therefore we anticipate that backwash can be ended after approximately 3 expanded bed residence times. In addition it takes about 1 minute to initiate backwash by lowering the water level above the filter bed. Estimate the time between beginning backwash and finishing the cleaning of the bed.\n"
   ]
  },
  {
   "cell_type": "code",
   "execution_count": null,
   "metadata": {
    "collapsed": true
   },
   "outputs": [],
   "source": [
    "TIME_FILTER_BACWASH_DRAIN = 1 * u.min\n",
    "def time_filter_backwash():\n",
    "    return theta_filter_backwash() * 3 + TIME_FILTER_BACWASH_DRAIN\n",
    "print(\"#8. \" + str(time_filter_backwash())+ \"\\n\")\n"
   ]
  },
  {
   "cell_type": "markdown",
   "metadata": {},
   "source": [
    "9)Estimate the total depth of water that is wasted during that time."
   ]
  },
  {
   "cell_type": "code",
   "execution_count": null,
   "metadata": {
    "collapsed": true
   },
   "outputs": [],
   "source": [
    "LENGTH_FILTER_BACKWASH = VELOCITY_FILTER_BACKWASH * time_filter_backwash()\n",
    "print(\"#9. \" + str(LENGTH_FILTER_BACKWASH) + \"\\n\")\n"
   ]
  },
  {
   "cell_type": "markdown",
   "metadata": {},
   "source": [
    "10)Estimate the total depth of water that is lost due to refilling the filter box at the end of backwash plus the slow refilling to the maximum dirty bed height. You may ignore the influence of plumbing head loss and you may assume that the dirty bed head loss is about 40 cm.\n"
   ]
  },
  {
   "cell_type": "code",
   "execution_count": null,
   "metadata": {
    "collapsed": true
   },
   "outputs": [],
   "source": [
    "HEAD_LOSS_FILTER_DIRTY = 40 * u.cm\n",
    "\n",
    "LENGTH__FILTER_BACKWASH_REFILL = HEIGHT_FILTER + 20 * u.cm + HEAD_LOSS_FILTER_DIRTY\n",
    "print(\"#10. \" + str(LENGTH__FILTER_BACKWASH_REFILL) + \"\\n\")"
   ]
  },
  {
   "cell_type": "markdown",
   "metadata": {},
   "source": [
    "11)Now calculate the total length (or depth) of water that is wasted due to backwash by adding the two previous lengths.\n"
   ]
  },
  {
   "cell_type": "code",
   "execution_count": null,
   "metadata": {
    "collapsed": true
   },
   "outputs": [],
   "source": [
    "LENGTH_FILTER_BACKWASH_WASTED = LENGTH_FILTER_BACKWASH + LENGTH__FILTER_BACKWASH_REFILL\n",
    "print(\"#11. \" + str(LENGTH_FILTER_BACKWASH_WASTED) + \"\\n\")\n"
   ]
  },
  {
   "cell_type": "markdown",
   "metadata": {},
   "source": []
  },
  {
   "cell_type": "markdown",
   "metadata": {
    "collapsed": true
   },
   "source": [
    "12) Assume that the filter run + backwash time is 12 hours. What is the total height (or length) of water that would enter the filter during this time? This length when multiplied by the area of the filter would give the total volume of water processed by a filter."
   ]
  },
  {
   "cell_type": "markdown",
   "metadata": {},
   "source": []
  },
  {
   "cell_type": "code",
   "execution_count": null,
   "metadata": {
    "collapsed": true
   },
   "outputs": [],
   "source": [
    "TIME_Filter_CYCLE = 12 * u.hr\n",
    "LENGTH_FILTER_WATER_CYCLE = TIME_Filter_CYCLE * VELOCITY_FILTER_BACKWASH\n",
    "print(\"#12. \" + str(LENGTH_FILTER_WATER_CYCLE) + \"\\n\")"
   ]
  },
  {
   "cell_type": "markdown",
   "metadata": {},
   "source": []
  },
  {
   "cell_type": "markdown",
   "metadata": {
    "collapsed": true
   },
   "source": [
    "13) What fraction of the total water is lost due to backwash and the related water level changes in the filter box?\n"
   ]
  },
  {
   "cell_type": "code",
   "execution_count": null,
   "metadata": {
    "collapsed": true
   },
   "outputs": [],
   "source": [
    "II_FILTER_BACKWASH_WASTED = LENGTH_FILTER_BACKWASH_WASTED / LENGTH_FILTER_WATER_CYCLE\n",
    "print(\"#13. \" + str(II_FILTER_BACKWASH_WASTED) + \"\\n\")"
   ]
  },
  {
   "cell_type": "markdown",
   "metadata": {
    "collapsed": true
   },
   "source": [
    "14) Define a new unit in Mathcad. Define NTU based the equation below. You can do this by simply defining an NTU as 1/0.65 mg/L!!!!\n",
    "\n",
    "Conc_RAW_WATER = 0.65*NTU*RAW_WATER*u.mg/u.L"
   ]
  },
  {
   "cell_type": "code",
   "execution_count": null,
   "metadata": {
    "collapsed": true
   },
   "outputs": [],
   "source": [
    "NTU = 1/0.65 * u.mg/u.L\n",
    "print(\"#14. \" + str(NTU)+ \"\\n\")"
   ]
  },
  {
   "cell_type": "markdown",
   "metadata": {
    "collapsed": true
   },
   "source": [
    "15) Now we will evaluate the very first data set from a full scale SRSF. The performance data given below is the settled water turbidity and then the filtered water turbidity during one filter run. The time step is 5 minutes. Use the array column function to create arrays containing the filter influent and effluent data, attach the units of NTU to the arrays, and then calculate pC* for the filter as a function of time and plot that data.\n"
   ]
  },
  {
   "cell_type": "code",
   "execution_count": null,
   "metadata": {
    "collapsed": true
   },
   "outputs": [],
   "source": [
    "DELTA_TIME_DATA = 5 * u.min\n",
    "def ntu_influent():\n",
    "    return srsf.iloc[:, 0] * NTU\n",
    "print(\"#15. \")\n",
    "print(ntu_influent())\n",
    "print(\"\\n\")\n",
    "\n",
    "def ntu_effluent():\n",
    "    return srsf.iloc[:, 1] * NTU\n",
    "print(ntu_effluent())\n",
    "print(\"\\n\")\n",
    "\n",
    "def p(x):\n",
    "    return math.log(1/x)\n",
    "\n",
    "def srsf_time():\n",
    "    srsf_time=[]\n",
    "    for i in range(len(ntu_effluent())):\n",
    "        srsf_time.append(DELTA_TIME_DATA*i)\n",
    "    return srsf_time\n",
    "print(srsf_time())\n",
    "print(\"\\n\")\n"
   ]
  },
  {
   "cell_type": "markdown",
   "metadata": {
    "collapsed": true
   },
   "source": [
    "16) How many kg of suspended solids per square meter of filter were removed during this filter run. Use the plan view area for the filter (don't multiply by the number of layers)"
   ]
  },
  {
   "cell_type": "code",
   "execution_count": null,
   "metadata": {
    "collapsed": true
   },
   "outputs": [],
   "source": [
    "def mass_filter_solids():\n",
    "    return sum((ntu_influent()-ntu_effluent())* (FLOW_PLANT*DELTA_TIME_DATA)/AREA_FILTER)\n",
    "\n",
    "print(\"#16. \" + str(mass_filter_solids())+ \"\\n\")"
   ]
  },
  {
   "cell_type": "markdown",
   "metadata": {},
   "source": [
    "17) Another useful way to express the solids capacity of the filter is to calculate the turbidty removed * the run time and then express the results with units of NTU *hrs. What was the capacity of the filter in NTU hrs?\n"
   ]
  },
  {
   "cell_type": "code",
   "execution_count": null,
   "metadata": {
    "collapsed": true
   },
   "outputs": [],
   "source": [
    "def solid_capacity_other():\n",
    "    return sum((ntu_influent()-ntu_effluent())*DELTA_TIME_DATA)\n",
    "print(\"#17. \" + str(solid_capacity_other())+ \"\\n\")\n"
   ]
  },
  {
   "cell_type": "markdown",
   "metadata": {},
   "source": [
    "18) How long was the filter run?"
   ]
  },
  {
   "cell_type": "code",
   "execution_count": null,
   "metadata": {
    "collapsed": true
   },
   "outputs": [],
   "source": [
    "def time_filter_cycle_data():\n",
    "    return float(str(ntu_influent())[-50:-42]) * DELTA_TIME_DATA\n",
    "print(\"#18. \" + str(time_filter_cycle_data())+ \"\\n\")"
   ]
  },
  {
   "cell_type": "markdown",
   "metadata": {},
   "source": [
    "19) What is the total volume of pores per square meter of SRSF filter bed (includes all 6 layers) (in L/m^2)?"
   ]
  },
  {
   "cell_type": "code",
   "execution_count": null,
   "metadata": {
    "collapsed": true
   },
   "outputs": [],
   "source": [
    "volume_filter_pores = HEIGHT_FILTER * PHI_FILTER_SAND\n",
    "print(\"#19. \" + str(volume_filter_pores) + \"\\n\" )"
   ]
  },
  {
   "cell_type": "markdown",
   "metadata": {},
   "source": [
    "20) The next step is to estimate the volume of flocs per plan view area of the filter. Assume the density of the flocs being captured by the filter are approximated by the density of flocs that have a sedimentation velocity of 0.10 mm/s (slightly less than the capture velocity of the plate settlers). (see slides in flocculation notes for size of the floc and then density of that floc. I've provided this value below to simplify the analysis\n",
    "#I know floc density.\n",
    "#Calculate fraction of floc volume that is clay.\n",
    "#Given that floc mass is the sum of clay mass and water mass and given that floc volume is the sum of clay volume and water volume, derive an equation for the volume of flocs per plan view area of a stacked rapid sand filter (includes all 6 layers) given the floc, clay, and water densities and the mass of the clay. Show the equations that you derive\n",
    "\n",
    "#mass conversion gives"
   ]
  },
  {
   "cell_type": "code",
   "execution_count": null,
   "metadata": {
    "collapsed": true
   },
   "outputs": [],
   "source": [
    "RHO_FLOC = RHO_WATER + 100 * u.kg/u.m**3\n",
    "RHO_CLAY = 2650 * u.kg/u.m**3\n",
    "\n",
    "\n",
    "def volume_floc():\n",
    "    return (mass_filter_solids()/RHO_CLAY) * (RHO_CLAY -RHO_WATER)/(RHO_FLOC - RHO_WATER)\n",
    "print(\"#20. \" + str(volume_floc()) + \"\\n\" )\n"
   ]
  },
  {
   "cell_type": "markdown",
   "metadata": {},
   "source": [
    "21) What percent of the filter pore volume is occupied by the flocs? This fraction of pore space occupied is quite small and suggests that much of the filter bed has a very low particle concentration at the end of a filter run.\n"
   ]
  },
  {
   "cell_type": "code",
   "execution_count": null,
   "metadata": {
    "collapsed": true
   },
   "outputs": [],
   "source": [
    "def ii_floc_pores():\n",
    "    return volume_floc() / volume_filter_pores\n",
    "\n",
    "print(\"#21. \" + str(ii_floc_pores()) + \"\\n\")"
   ]
  },
  {
   "cell_type": "markdown",
   "metadata": {},
   "source": [
    "22) Final head loss for the filter was 50cm. Assume that this is caused by minor losses due to creation of a floc orifice in each pore. Find the minor loss contribution by subtracting off the clean bed head loss to find the head loss created by the flow restrictions that were created by the flocs."
   ]
  },
  {
   "cell_type": "code",
   "execution_count": null,
   "metadata": {
    "collapsed": true
   },
   "outputs": [],
   "source": [
    "HEAD_LOSS_FINAL = 50 * u.cm\n",
    "def head_loss_restrictions():\n",
    "    return HEAD_LOSS_FINAL - HEAD_LOSS_FILTER_SAND_CLEAN\n",
    "\n",
    "print(\"#22. \" + str(head_loss_restrictions()) + \"\\n\")"
   ]
  },
  {
   "cell_type": "markdown",
   "metadata": {},
   "source": [
    "23) If we assume that at the end of the filter run every pore in the filter had a flow restricting orifice from the deposition of flocs in the pore, then what was the diameter of each of the flow restrictions? We will calculate this in several steps. To begin, estimate how many flow restrictions are created by the sand grains before any flocs are added with the assumption that there is one flow restriction per sand grain. How many sand grains are there per cubic meter of filter bed? Use  to estimate the number of sand grains. We will assume there is a one to one correspondence between sand grains and flow restrictions."
   ]
  },
  {
   "cell_type": "code",
   "execution_count": null,
   "metadata": {
    "collapsed": true
   },
   "outputs": [],
   "source": [
    "VOLUME_FILTER_SAND_GRAIN = DEPTH_FILTER_SAND_60**3 * math.pi/6\n",
    "VOLUME_FILTER_SAND_GRAIN_WITH_PORE = VOLUME_FILTER_SAND_GRAIN/ (1-PHI_FILTER_SAND)\n",
    "NUMBER_SAND = 1 /(VOLUME_FILTER_SAND_GRAIN_WITH_PORE)\n",
    "\n",
    "print(\"#23. \" + str(NUMBER_SAND) + \"\\n\")"
   ]
  },
  {
   "cell_type": "markdown",
   "metadata": {},
   "source": [
    "24) Estimate the average vertical distance between flow restrictions based on the cube root of the volume occupied by a sand grain"
   ]
  },
  {
   "cell_type": "code",
   "execution_count": null,
   "metadata": {
    "collapsed": true
   },
   "outputs": [],
   "source": [
    "LENGTH_SAND_SEPARATION = VOLUME_FILTER_SAND_GRAIN_WITH_PORE **(1/3)\n",
    "\n",
    "print(\"#24. \" + str(LENGTH_SAND_SEPARATION) + \"\\n\")"
   ]
  },
  {
   "cell_type": "markdown",
   "metadata": {},
   "source": [
    "25) On average, how many sand grain flow restrictions does a water molecule flow through on its way through the filter?"
   ]
  },
  {
   "cell_type": "code",
   "execution_count": null,
   "metadata": {
    "collapsed": true
   },
   "outputs": [],
   "source": [
    "NUMBER_RESTRICTIONS = HEIGHT_FILTER_LAYER/LENGTH_SAND_SEPARATION\n",
    "\n",
    "print(\"#25. \" + str(NUMBER_RESTRICTIONS) + \"\\n\")"
   ]
  },
  {
   "cell_type": "markdown",
   "metadata": {},
   "source": [
    "26) What is the head loss per flow restriction?"
   ]
  },
  {
   "cell_type": "code",
   "execution_count": null,
   "metadata": {
    "collapsed": true
   },
   "outputs": [],
   "source": [
    "HEAD_LOSS_RESTRICTION = head_loss_restrictions() / NUMBER_RESTRICTIONS\n",
    "\n",
    "print(\"#26. \" + str(HEAD_LOSS_RESTRICTION) + \"\\n\")"
   ]
  },
  {
   "cell_type": "markdown",
   "metadata": {},
   "source": [
    "#27) If each restriction was partially clogged with flocs at the end of the filter run, estimate the velocity in the restriction using the expansion head loss equation. You can use the average pore water velocity as a good estimate of the expanded flow velocity.\n",
    "\n",
    "#HEAD_LOSS_EXPANSION = (VELOCITY_IN - VELOCITY_OUT)**2 / 2*g"
   ]
  },
  {
   "cell_type": "code",
   "execution_count": null,
   "metadata": {
    "collapsed": true
   },
   "outputs": [],
   "source": [
    "VELOCITY_PORE = VELOCITY_FILTER / PHI_FILTER_SAND\n",
    "VELOCITY_RESTRICTION = ((2 * g * HEAD_LOSS_RESTRICTION)**(1/2) + VELOCITY_PORE).to(u.mm /u.s)\n",
    "\n",
    "print(\"#27. \" + str(VELOCITY_RESTRICTION) + \"\\n\")"
   ]
  },
  {
   "cell_type": "markdown",
   "metadata": {},
   "source": [
    "28) What is flow rate of water through each pore in μL/s? You can estimate this from the number of pores per square meter given the average separation distance."
   ]
  },
  {
   "cell_type": "code",
   "execution_count": null,
   "metadata": {
    "collapsed": true
   },
   "outputs": [],
   "source": [
    "NUMBER_PORE_PER_AREA = 1/LENGTH_SAND_SEPARATION\n",
    "FLOW_PORE = ((VELOCITY_FILTER/ NUMBER_PORE_PER_AREA))\n",
    "\n",
    "print(\"#28. \" + str(FLOW_PORE) + \"\\n\")"
   ]
  },
  {
   "cell_type": "markdown",
   "metadata": {},
   "source": [
    "29) What is the inner diameter of the flow restriction created by the flocs if the vena contracta is 0.62?\n"
   ]
  },
  {
   "cell_type": "code",
   "execution_count": null,
   "metadata": {
    "collapsed": true
   },
   "outputs": [],
   "source": [
    "II_VENA_CONTRACTA = 0.62\n",
    "\n",
    "AREA_VENA_CONRACTA_RESTRICTION = FLOW_PORE/VELOCITY_RESTRICTION\n",
    "DIAMETER_RESTRICTION = ( (4 * AREA_VENA_CONRACTA_RESTRICTION/II_VENA_CONTRACTA)/math.pi )**(1/2)\n",
    "\n",
    "print(\"#29. \" + str(DIAMETER_RESTRICTION) + \"\\n\")"
   ]
  },
  {
   "cell_type": "markdown",
   "metadata": {},
   "source": [
    "30) Plot the fractional removal per restriction as a function of particle size."
   ]
  },
  {
   "cell_type": "code",
   "execution_count": null,
   "metadata": {
    "collapsed": true
   },
   "outputs": [],
   "source": []
  },
  {
   "cell_type": "code",
   "execution_count": null,
   "metadata": {
    "collapsed": true
   },
   "outputs": [],
   "source": []
  },
  {
   "cell_type": "code",
   "execution_count": null,
   "metadata": {
    "collapsed": true
   },
   "outputs": [],
   "source": []
  }
 ],
 "metadata": {
  "kernelspec": {
   "display_name": "Python 3",
   "language": "python",
   "name": "python3"
  },
  "language_info": {
   "codemirror_mode": {
    "name": "ipython",
    "version": 3
   },
   "file_extension": ".py",
   "mimetype": "text/x-python",
   "name": "python",
   "nbconvert_exporter": "python",
   "pygments_lexer": "ipython3",
   "version": "3.6.1"
  }
 },
 "nbformat": 4,
 "nbformat_minor": 1
}
