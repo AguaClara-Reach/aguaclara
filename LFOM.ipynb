{
 "cells": [
  {
   "cell_type": "code",
   "execution_count": 49,
   "metadata": {
    "collapsed": true
   },
   "outputs": [],
   "source": [
    "#Here we import packages that we will need for this notebook. You can find out about these packages in the Help menu.\n",
    "\n",
    "# although math is \"built in\" it needs to be imported so it's functions can be used.\n",
    "import math\n",
    "\n",
    "from scipy import constants, interpolate\n",
    "\n",
    "#see numpy cheat sheet https://www.dataquest.io/blog/images/cheat-sheets/numpy-cheat-sheet.pdf\n",
    "#The numpy import is needed because it is renamed here as np.\n",
    "import numpy as np\n",
    "\n",
    "import pandas as pd\n",
    "\n",
    "import matplotlib.pyplot as plt\n",
    "\n",
    "# sys and os give us access to operating system directory paths and to sys paths.\n",
    "import sys, os\n",
    "\n",
    "# If you place your GitHub directory in your documents folder and \n",
    "# clone both the design challenge notebook and the AguaClara_design repo, then this code should all work.\n",
    "# If you have your GitHub directory at a different location on your computer, \n",
    "# then you will need to adjust the directory path below.\n",
    "# add the path to your GitHub directory so that python can find files in other contained folders.\n",
    "myGitHubdir=os.path.expanduser('~\\\\Documents\\\\GitHub')\n",
    "if myGitHubdir not in sys.path:\n",
    "    sys.path.append(myGitHubdir)\n",
    "\n",
    "# add imports for AguaClara code that will be needed\n",
    "# physchem has functions related to hydraulics, fractal flocs, flocculation, sedimentation, etc.\n",
    "from AguaClara_design import physchem as pc\n",
    "\n",
    "# pipedatabase has functions related to pipe diameters\n",
    "from AguaClara_design import pipedatabase as pipe\n",
    "\n",
    "# units allows us to include units in all of our calculations\n",
    "from AguaClara_design.units import unit_registry as u\n",
    "\n",
    "# utility has the significant digit display function\n",
    "from AguaClara_design import utility as ut\n",
    "ratio_VC_orifice= 0.62"
   ]
  },
  {
   "cell_type": "markdown",
   "metadata": {},
   "source": [
    "The linear flow orifice meter was developed in 2008 by the AguaClara team at Cornell University in Ithaca, NY. It maintains a linear relationship between the height of water in the entrance tank and the overall plant flow rate, allowing an operator to easily determine how much water is flowing through the plant at any given time. This task is accomplished by mimicking the theoretical stout weir, as will be described below. \n",
    "\n",
    "The LFOM made possible the development of an automatic chemical dose controller. This device utilizes the linear relationship between height and flow rate provided by the LFOM, and automatically doses the proper amount of coagulant to water leaving the entrance tank. \n",
    "\n",
    "Below, we describe the algorithm which designs the AguaClara LFOM and then develop this algorithm using Mathcad code. "
   ]
  },
  {
   "cell_type": "code",
   "execution_count": 50,
   "metadata": {
    "collapsed": true
   },
   "outputs": [],
   "source": [
    "# The following constants need to go into the constants file\n",
    "Pi_LFOM_safety = 1.2\n",
    "# pipe schedule for LFOM\n",
    "SDR_LFOM = 26"
   ]
  },
  {
   "cell_type": "code",
   "execution_count": 51,
   "metadata": {
    "collapsed": true
   },
   "outputs": [],
   "source": [
    "def width_stout(HL_LFOM,z):\n",
    "    return 2/((2*u.g_0*z)**(1/2)*math.pi*HL_LFOM)"
   ]
  },
  {
   "cell_type": "code",
   "execution_count": 52,
   "metadata": {
    "collapsed": true
   },
   "outputs": [],
   "source": [
    "def n_lfom_rows(FLOW,HL_LFOM):\n",
    "    N_ESTIMATED = (HL_LFOM*math.pi/(2*width_stout(HL_LFOM,HL_LFOM)*FLOW)).to(u.dimensionless)\n",
    "    return min(10,max(4,math.trunc(N_ESTIMATED.magnitude)))"
   ]
  },
  {
   "cell_type": "code",
   "execution_count": 53,
   "metadata": {
    "collapsed": true
   },
   "outputs": [],
   "source": [
    "FLOW = 5*u.L/u.s\n",
    "HL_LFOM = 20*u.cm"
   ]
  },
  {
   "cell_type": "code",
   "execution_count": 54,
   "metadata": {},
   "outputs": [
    {
     "data": {
      "text/plain": [
       "10"
      ]
     },
     "execution_count": 54,
     "metadata": {},
     "output_type": "execute_result"
    }
   ],
   "source": [
    "n_lfom_rows(FLOW,HL_LFOM)"
   ]
  },
  {
   "cell_type": "code",
   "execution_count": 55,
   "metadata": {},
   "outputs": [
    {
     "data": {
      "text/html": [
       "0.008035812563075291 dimensionless"
      ],
      "text/latex": [
       "$0.008035812563075291\\ dimensionless$"
      ],
      "text/plain": [
       "<Quantity(0.008035812563075291, 'dimensionless')>"
      ]
     },
     "execution_count": 55,
     "metadata": {},
     "output_type": "execute_result"
    }
   ],
   "source": [
    "(width_stout(HL_LFOM,HL_LFOM)*FLOW).to(u.m)/u.m"
   ]
  },
  {
   "cell_type": "code",
   "execution_count": 56,
   "metadata": {
    "collapsed": true
   },
   "outputs": [],
   "source": [
    "\n",
    "def dist_center_lfom_rows(FLOW,HL_LFOM):\n",
    "    return HL_LFOM/n_lfom_rows(FLOW,HL_LFOM)"
   ]
  },
  {
   "cell_type": "code",
   "execution_count": 57,
   "metadata": {},
   "outputs": [
    {
     "data": {
      "text/html": [
       "2.0 centimeter"
      ],
      "text/latex": [
       "$2.0\\ \\mathrm{centimeter}$"
      ],
      "text/plain": [
       "<Quantity(2.0, 'centimeter')>"
      ]
     },
     "execution_count": 57,
     "metadata": {},
     "output_type": "execute_result"
    }
   ],
   "source": [
    "dist_center_lfom_rows(FLOW,HL_LFOM)"
   ]
  },
  {
   "cell_type": "code",
   "execution_count": 58,
   "metadata": {
    "collapsed": true
   },
   "outputs": [],
   "source": [
    "# average vertical velocity of the water inside the LFOM pipe \n",
    "# at the very bottom of the bottom row of orifices\n",
    "# The speed of falling water is 0.841 m/s for all linear flow orifice meters of height 20cm, independent of total plant flow rate.\n",
    "def vol_lfom_pipe_critical(HL_LFOM):\n",
    "    return (4/(3*math.pi)*(2*u.g_0*HL_LFOM)**(1/2)).to(u.m/u.s)"
   ]
  },
  {
   "cell_type": "code",
   "execution_count": 59,
   "metadata": {},
   "outputs": [
    {
     "data": {
      "text/html": [
       "0.8405802802312781 meter/second"
      ],
      "text/latex": [
       "$0.8405802802312781\\ \\frac{\\mathrm{meter}}{\\mathrm{second}}$"
      ],
      "text/plain": [
       "<Quantity(0.8405802802312781, 'meter / second')>"
      ]
     },
     "execution_count": 59,
     "metadata": {},
     "output_type": "execute_result"
    }
   ],
   "source": [
    "vol_lfom_pipe_critical(HL_LFOM)"
   ]
  },
  {
   "cell_type": "code",
   "execution_count": 60,
   "metadata": {
    "collapsed": true
   },
   "outputs": [],
   "source": [
    "def area_lfom_pipe_min(FLOW,HL_LFOM,Pi_LFOM_safety):\n",
    "    return (Pi_LFOM_safety*FLOW/vol_lfom_pipe_critical(HL_LFOM)).to(u.m**2)"
   ]
  },
  {
   "cell_type": "code",
   "execution_count": 61,
   "metadata": {},
   "outputs": [
    {
     "data": {
      "text/html": [
       "0.007137926193497133 meter<sup>2</sup>"
      ],
      "text/latex": [
       "$0.007137926193497133\\ \\mathrm{meter}^{2}$"
      ],
      "text/plain": [
       "<Quantity(0.007137926193497133, 'meter ** 2')>"
      ]
     },
     "execution_count": 61,
     "metadata": {},
     "output_type": "execute_result"
    }
   ],
   "source": [
    " area_lfom_pipe_min(FLOW,HL_LFOM,Pi_LFOM_safety)"
   ]
  },
  {
   "cell_type": "code",
   "execution_count": 62,
   "metadata": {
    "collapsed": true
   },
   "outputs": [],
   "source": [
    "def nom_diam_lfom_pipe(FLOW,HL_LFOM,Pi_LFOM_safety,SDR_LFOM):\n",
    "    ID=pc.diam_circle(area_lfom_pipe_min(FLOW,HL_LFOM,Pi_LFOM_safety))\n",
    "    return pipe.ND_SDR_available(ID,SDR_LFOM)"
   ]
  },
  {
   "cell_type": "code",
   "execution_count": 63,
   "metadata": {},
   "outputs": [
    {
     "data": {
      "text/html": [
       "6.0 inch"
      ],
      "text/latex": [
       "$6.0\\ \\mathrm{inch}$"
      ],
      "text/plain": [
       "<Quantity(6.0, 'inch')>"
      ]
     },
     "execution_count": 63,
     "metadata": {},
     "output_type": "execute_result"
    }
   ],
   "source": [
    "nom_diam_lfom_pipe(11*u.L/u.s,HL_LFOM,Pi_LFOM_safety,SDR_LFOM)"
   ]
  },
  {
   "cell_type": "markdown",
   "metadata": {},
   "source": [
    "I'm not including the functions that change the height of the LFOM as a function of flow rate because it isn't clear that those functions will be needed. It is possible that we will switch to plane LFOMs for high flowrates"
   ]
  },
  {
   "cell_type": "code",
   "execution_count": 64,
   "metadata": {
    "collapsed": true
   },
   "outputs": [],
   "source": [
    "# another possibility is to use integration to solve this problem.\n",
    "# Here we use the width of the stout weir in the center of the top row\n",
    "# to estimate the area of the top orifice\n",
    "def area_lfom_orifices_max(FLOW,HL_LFOM):\n",
    "    return FLOW*width_stout(HL_LFOM,HL_LFOM-0.5*dist_center_lfom_rows(FLOW,HL_LFOM))*dist_center_lfom_rows(FLOW,HL_LFOM)\n",
    "\n",
    "def d_lfom_orifices_max(FLOW,HL_LFOM):\n",
    "    return (pc.diam_circle(area_lfom_orifices_max(FLOW,HL_LFOM)))\n"
   ]
  },
  {
   "cell_type": "code",
   "execution_count": 65,
   "metadata": {},
   "outputs": [
    {
     "data": {
      "text/html": [
       "8.244569731129168 millimeter"
      ],
      "text/latex": [
       "$8.244569731129168\\ \\mathrm{millimeter}$"
      ],
      "text/plain": [
       "<Quantity(8.244569731129168, 'millimeter')>"
      ]
     },
     "execution_count": 65,
     "metadata": {},
     "output_type": "execute_result"
    }
   ],
   "source": [
    "(FLOW*width_stout(HL_LFOM,HL_LFOM-0.5*dist_center_lfom_rows(FLOW,HL_LFOM))).to(u.mm)"
   ]
  },
  {
   "cell_type": "code",
   "execution_count": null,
   "metadata": {
    "collapsed": true
   },
   "outputs": [],
   "source": []
  },
  {
   "cell_type": "code",
   "execution_count": 66,
   "metadata": {
    "collapsed": true
   },
   "outputs": [],
   "source": [
    "from enum import Enum\n",
    "class uomeasure(Enum):\n",
    "    english = 0\n",
    "    metric = 1\n",
    "\n",
    "# define the constant. How do we make all of the constants available to designers?   \n",
    "drill_series_uom=uomeasure"
   ]
  },
  {
   "cell_type": "code",
   "execution_count": 67,
   "metadata": {
    "collapsed": true
   },
   "outputs": [],
   "source": [
    "def drill_series(uomeasure):\n",
    "    if uomeasure is uomeasure.english:\n",
    "        ds=np.arange(1/32, 1/4, 1/32)\n",
    "        ds=np.append(ds,np.arange(3/8, 1, 1/8))\n",
    "        ds=np.append(ds,np.arange(1.25, 3.25, 1/4))\n",
    "        ds=ds*u.inch\n",
    "    else:\n",
    "        ds=np.arange(0.5, 4.9, 0.1)\n",
    "        ds=np.append(ds,np.arange(5, 19, 1))\n",
    "        ds=np.append(ds,np.arange(20, 50, 2))\n",
    "        ds=ds*u.mm\n",
    "    return ds"
   ]
  },
  {
   "cell_type": "code",
   "execution_count": 68,
   "metadata": {},
   "outputs": [
    {
     "data": {
      "text/html": [
       "\\[\\begin{pmatrix}0.5 & 0.6 & 0.7 & 0.7999999999999999 & 0.8999999999999999 & 0.9999999999999999 & 1.0999999999999999 & 1.1999999999999997 & 1.2999999999999998 & 1.4 & 1.4999999999999998 & 1.5999999999999996 & 1.6999999999999997 & 1.7999999999999998 & 1.8999999999999997 & 1.9999999999999996 & 2.0999999999999996 & 2.1999999999999997 & 2.3 & 2.3999999999999995 & 2.4999999999999996 & 2.5999999999999996 & 2.6999999999999993 & 2.7999999999999994 & 2.8999999999999995 & 2.9999999999999996 & 3.0999999999999996 & 3.1999999999999993 & 3.2999999999999994 & 3.3999999999999995 & 3.499999999999999 & 3.599999999999999 & 3.6999999999999993 & 3.7999999999999994 & 3.8999999999999995 & 3.999999999999999 & 4.1 & 4.199999999999999 & 4.299999999999999 & 4.399999999999999 & 4.499999999999999 & 4.599999999999999 & 4.699999999999999 & 4.799999999999999 & 5.0 & 6.0 & 7.0 & 8.0 & 9.0 & 10.0 & 11.0 & 12.0 & 13.0 & 14.0 & 15.0 & 16.0 & 17.0 & 18.0 & 20.0 & 22.0 & 24.0 & 26.0 & 28.0 & 30.0 & 32.0 & 34.0 & 36.0 & 38.0 & 40.0 & 42.0 & 44.0 & 46.0 & 48.0\\end{pmatrix} millimeter\\]"
      ],
      "text/latex": [
       "$\\begin{pmatrix}0.5 & 0.6 & 0.7 & 0.7999999999999999 & 0.8999999999999999 & 0.9999999999999999 & 1.0999999999999999 & 1.1999999999999997 & 1.2999999999999998 & 1.4 & 1.4999999999999998 & 1.5999999999999996 & 1.6999999999999997 & 1.7999999999999998 & 1.8999999999999997 & 1.9999999999999996 & 2.0999999999999996 & 2.1999999999999997 & 2.3 & 2.3999999999999995 & 2.4999999999999996 & 2.5999999999999996 & 2.6999999999999993 & 2.7999999999999994 & 2.8999999999999995 & 2.9999999999999996 & 3.0999999999999996 & 3.1999999999999993 & 3.2999999999999994 & 3.3999999999999995 & 3.499999999999999 & 3.599999999999999 & 3.6999999999999993 & 3.7999999999999994 & 3.8999999999999995 & 3.999999999999999 & 4.1 & 4.199999999999999 & 4.299999999999999 & 4.399999999999999 & 4.499999999999999 & 4.599999999999999 & 4.699999999999999 & 4.799999999999999 & 5.0 & 6.0 & 7.0 & 8.0 & 9.0 & 10.0 & 11.0 & 12.0 & 13.0 & 14.0 & 15.0 & 16.0 & 17.0 & 18.0 & 20.0 & 22.0 & 24.0 & 26.0 & 28.0 & 30.0 & 32.0 & 34.0 & 36.0 & 38.0 & 40.0 & 42.0 & 44.0 & 46.0 & 48.0\\end{pmatrix}\\ \\mathrm{millimeter}$"
      ],
      "text/plain": [
       "<Quantity([  0.5   0.6   0.7   0.8   0.9   1.    1.1   1.2   1.3   1.4   1.5   1.6\n",
       "   1.7   1.8   1.9   2.    2.1   2.2   2.3   2.4   2.5   2.6   2.7   2.8\n",
       "   2.9   3.    3.1   3.2   3.3   3.4   3.5   3.6   3.7   3.8   3.9   4.\n",
       "   4.1   4.2   4.3   4.4   4.5   4.6   4.7   4.8   5.    6.    7.    8.\n",
       "   9.   10.   11.   12.   13.   14.   15.   16.   17.   18.   20.   22.\n",
       "  24.   26.   28.   30.   32.   34.   36.   38.   40.   42.   44.   46.\n",
       "  48. ], 'millimeter')>"
      ]
     },
     "execution_count": 68,
     "metadata": {},
     "output_type": "execute_result"
    }
   ],
   "source": [
    "drill_series(drill_series_uom.metric)   "
   ]
  },
  {
   "cell_type": "code",
   "execution_count": 69,
   "metadata": {
    "collapsed": true
   },
   "outputs": [],
   "source": [
    "# Take the values of the array, compare to x, find the index of the first value less than or equal to x\n",
    "def floor_nearest(x,array):\n",
    "    myindex = np.argmax(array <= x)\n",
    "    return array[myindex]\n",
    "\n",
    "# Take the values of the array, compare to x, find the index of the first value greater or equal to x\n",
    "def ceil_nearest(x,array):\n",
    "    myindex = np.argmax(array >= x)\n",
    "    return array[myindex]"
   ]
  },
  {
   "cell_type": "code",
   "execution_count": 70,
   "metadata": {
    "collapsed": true
   },
   "outputs": [],
   "source": [
    "def lfom_drillbit_diameter(FLOW,HL_LFOM,drill_series_uom):\n",
    "    return ceil_nearest(d_lfom_orifices_max(FLOW,HL_LFOM),drill_series(drill_series_uom))"
   ]
  },
  {
   "cell_type": "code",
   "execution_count": 71,
   "metadata": {},
   "outputs": [
    {
     "data": {
      "text/html": [
       "14.489521876859984 millimeter"
      ],
      "text/latex": [
       "$14.489521876859984\\ \\mathrm{millimeter}$"
      ],
      "text/plain": [
       "<Quantity(14.489521876859984, 'millimeter')>"
      ]
     },
     "execution_count": 71,
     "metadata": {},
     "output_type": "execute_result"
    }
   ],
   "source": [
    "(d_lfom_orifices_max(FLOW,HL_LFOM)).to(u.mm)"
   ]
  },
  {
   "cell_type": "code",
   "execution_count": 72,
   "metadata": {},
   "outputs": [
    {
     "data": {
      "text/html": [
       "0.625 inch"
      ],
      "text/latex": [
       "$0.625\\ \\mathrm{inch}$"
      ],
      "text/plain": [
       "<Quantity(0.625, 'inch')>"
      ]
     },
     "execution_count": 72,
     "metadata": {},
     "output_type": "execute_result"
    }
   ],
   "source": [
    "lfom_drillbit_diameter(FLOW,HL_LFOM,drill_series_uom.english)"
   ]
  },
  {
   "cell_type": "code",
   "execution_count": 73,
   "metadata": {
    "collapsed": true
   },
   "outputs": [],
   "source": [
    "def lfom_drillbit_area(FLOW,HL_LFOM,drill_series_uom):\n",
    "    return pc.area_circle(lfom_drillbit_diameter(FLOW,HL_LFOM,drill_series_uom))"
   ]
  },
  {
   "cell_type": "code",
   "execution_count": 74,
   "metadata": {},
   "outputs": [
    {
     "data": {
      "text/html": [
       "0.30679615757712825 inch<sup>2</sup>"
      ],
      "text/latex": [
       "$0.30679615757712825\\ \\mathrm{inch}^{2}$"
      ],
      "text/plain": [
       "<Quantity(0.30679615757712825, 'inch ** 2')>"
      ]
     },
     "execution_count": 74,
     "metadata": {},
     "output_type": "execute_result"
    }
   ],
   "source": [
    "lfom_drillbit_area(FLOW,HL_LFOM,drill_series_uom.english)"
   ]
  },
  {
   "cell_type": "code",
   "execution_count": 75,
   "metadata": {
    "collapsed": true
   },
   "outputs": [],
   "source": [
    "##A bound on the number of orifices allowed in each row.  \n",
    "##The distance between consecutive orifices must be enough to retain structural integrity of the pipe\n",
    "\n",
    "def n_lfom_orifices_per_row_max(FLOW,HL_LFOM,drill_series_uom,SDR_LFOM):\n",
    "    S_lfom_orifices_Min= 3*u.mm\n",
    "    return math.floor(math.pi*(pipe.ID_SDR(nom_diam_lfom_pipe(FLOW,HL_LFOM,Pi_LFOM_safety,SDR_LFOM),SDR_LFOM))/(lfom_drillbit_diameter(FLOW,HL_LFOM,drill_series_uom)+S_lfom_orifices_Min))"
   ]
  },
  {
   "cell_type": "code",
   "execution_count": 76,
   "metadata": {},
   "outputs": [
    {
     "data": {
      "text/plain": [
       "18"
      ]
     },
     "execution_count": 76,
     "metadata": {},
     "output_type": "execute_result"
    }
   ],
   "source": [
    "n_lfom_orifices_per_row_max(FLOW,HL_LFOM,drill_series_uom.metric,SDR_LFOM)"
   ]
  },
  {
   "cell_type": "code",
   "execution_count": 77,
   "metadata": {
    "collapsed": true
   },
   "outputs": [],
   "source": [
    "#locations where we will try to get the target flows is in between orifices at elevation Pi.H\n",
    "def flow_ramp(FLOW,HL_LFOM):\n",
    "    return((np.arange((dist_center_lfom_rows(FLOW,HL_LFOM)/u.cm),(HL_LFOM/u.cm),(dist_center_lfom_rows(FLOW,HL_LFOM)/u.cm))*FLOW)*u.cm)/HL_LFOM"
   ]
  },
  {
   "cell_type": "code",
   "execution_count": 78,
   "metadata": {},
   "outputs": [
    {
     "data": {
      "text/html": [
       "\\[\\begin{pmatrix}0.5 & 1.0 & 1.5 & 2.0 & 2.5 & 3.0 & 3.5 & 4.0 & 4.5\\end{pmatrix} liter/second\\]"
      ],
      "text/latex": [
       "$\\begin{pmatrix}0.5 & 1.0 & 1.5 & 2.0 & 2.5 & 3.0 & 3.5 & 4.0 & 4.5\\end{pmatrix}\\ \\frac{\\mathrm{liter}}{\\mathrm{second}}$"
      ],
      "text/plain": [
       "<Quantity([ 0.5  1.   1.5  2.   2.5  3.   3.5  4.   4.5], 'liter / second')>"
      ]
     },
     "execution_count": 78,
     "metadata": {},
     "output_type": "execute_result"
    }
   ],
   "source": [
    "flow_ramp(FLOW,HL_LFOM)"
   ]
  },
  {
   "cell_type": "code",
   "execution_count": 79,
   "metadata": {
    "collapsed": true
   },
   "outputs": [],
   "source": [
    "def height_lfom_orifices(FLOW,HL_LFOM,drill_series_uom):\n",
    "    return np.arange(lfom_drillbit_diameter(FLOW,HL_LFOM,drill_series_uom.metric)*0.5,HL_LFOM,dist_center_lfom_rows(FLOW,HL_LFOM),dtype= object)"
   ]
  },
  {
   "cell_type": "code",
   "execution_count": 80,
   "metadata": {},
   "outputs": [
    {
     "data": {
      "text/plain": [
       "array([<Quantity(7.5, 'millimeter')>, <Quantity(27.5, 'millimeter')>,\n",
       "       <Quantity(47.5, 'millimeter')>, <Quantity(67.5, 'millimeter')>,\n",
       "       <Quantity(87.5, 'millimeter')>, <Quantity(107.5, 'millimeter')>,\n",
       "       <Quantity(127.5, 'millimeter')>, <Quantity(147.5, 'millimeter')>,\n",
       "       <Quantity(167.5, 'millimeter')>, <Quantity(187.5, 'millimeter')>], dtype=object)"
      ]
     },
     "execution_count": 80,
     "metadata": {},
     "output_type": "execute_result"
    }
   ],
   "source": [
    "height_lfom_orifices(FLOW,HL_LFOM,drill_series_uom.metric) "
   ]
  },
  {
   "cell_type": "code",
   "execution_count": 81,
   "metadata": {
    "collapsed": true
   },
   "outputs": [],
   "source": [
    "#Calculate the flow for a given number of submerged rows of orifices\n",
    "def flow_lfom_actual(FLOW,HL_LFOM,drill_series_uom,Row_Index_Submerged,N_LFOM_Orifices):\n",
    "    D_LFOM_Orifices=lfom_drillbit_diameter(FLOW,HL_LFOM,drill_series_uom).to(u.m)\n",
    "    FLOW_new=[]\n",
    "    for i in range(Row_Index_Submerged):\n",
    "        h = np.arange(dist_center_lfom_rows(FLOW,HL_LFOM),HL_LFOM,dist_center_lfom_rows(FLOW,HL_LFOM),dtype=object)\n",
    "        h = h[Row_Index_Submerged].to(u.m)\n",
    "        d = np.arange(0.5* D_LFOM_Orifices,HL_LFOM,dist_center_lfom_rows(FLOW,HL_LFOM),dtype=object)\n",
    "        FLOW_new.append(N_LFOM_Orifices[i]*(pc.flow_orifice_vert(D_LFOM_Orifices,h-d[i],ratio_VC_orifice)))\n",
    "    return sum(FLOW_new)"
   ]
  },
  {
   "cell_type": "code",
   "execution_count": 82,
   "metadata": {},
   "outputs": [
    {
     "data": {
      "text/html": [
       "3.568962891638526 liter/second"
      ],
      "text/latex": [
       "$3.568962891638526\\ \\frac{\\mathrm{liter}}{\\mathrm{second}}$"
      ],
      "text/plain": [
       "<Quantity(3.568962891638526, 'liter / second')>"
      ]
     },
     "execution_count": 82,
     "metadata": {},
     "output_type": "execute_result"
    }
   ],
   "source": [
    "flow_lfom_actual(FLOW,HL_LFOM,drill_series_uom,5,[13,3,3,4,2,3,2,2,2])"
   ]
  },
  {
   "cell_type": "code",
   "execution_count": 83,
   "metadata": {
    "collapsed": true
   },
   "outputs": [],
   "source": [
    "#Calculate number of orifices at each level given a diameter\n",
    "def fric_n_lfom_orifices(FLOW,HL_LFOM,drill_series_uom,SDR_LFOM):\n",
    "    FLOW_ramp_local=flow_ramp(FLOW,HL_LFOM)\n",
    "    D_LFOM_Orifices=lfom_drillbit_diameter(FLOW,HL_LFOM,drill_series_uom)\n",
    "    H_ramp_local=np.arange(D_LFOM_Orifices*0.5,HL_LFOM,dist_center_lfom_rows(FLOW,HL_LFOM),dtype=object)\n",
    "    n=[]\n",
    "    for i in range (len(H_ramp_local)-1):\n",
    "        h=np.arange(dist_center_lfom_rows(FLOW,HL_LFOM),HL_LFOM,dist_center_lfom_rows(FLOW,HL_LFOM),dtype=object)\n",
    "        d=H_ramp_local\n",
    "        if nom_diam_lfom_pipe(FLOW,HL_LFOM,Pi_LFOM_safety,SDR_LFOM)<=12*u.inch:\n",
    "            n.append(min(max(0,round((FLOW_ramp_local[i]-flow_lfom_actual(FLOW,HL_LFOM,drill_series_uom,i,n))/pc.flow_orifice_vert(D_LFOM_Orifices,h[i]-d[i],ratio_VC_orifice))),n_lfom_orifices_per_row_max(FLOW,HL_LFOM,drill_series_uom,SDR_LFOM)))\n",
    "        else:\n",
    "             n.append(max(0,round((FLOW_ramp_local[i]-flow_lfom_actual(FLOW,HL_LFOM,drill_series_uom,i,n))/pc.flow_orifice_vert(D_LFOM_Orifices,h[i]-d[i],ratio_VC_orifice))))\n",
    "    return n\n",
    "                     "
   ]
  },
  {
   "cell_type": "code",
   "execution_count": 84,
   "metadata": {},
   "outputs": [
    {
     "name": "stdout",
     "output_type": "stream",
     "text": [
      "[<Quantity(9.0, 'dimensionless')>, <Quantity(4.0, 'dimensionless')>, <Quantity(3.0, 'dimensionless')>, <Quantity(2.0, 'dimensionless')>, <Quantity(3.0, 'dimensionless')>, <Quantity(1.0, 'dimensionless')>, <Quantity(3.0, 'dimensionless')>, <Quantity(1.0, 'dimensionless')>, <Quantity(1.0, 'dimensionless')>]\n"
     ]
    }
   ],
   "source": [
    "print(fric_n_lfom_orifices(FLOW,HL_LFOM,drill_series_uom,SDR_LFOM))"
   ]
  },
  {
   "cell_type": "code",
   "execution_count": 85,
   "metadata": {
    "collapsed": true
   },
   "outputs": [],
   "source": [
    "#This function calculates the error of the design based on the differences between the predicted flow rate\n",
    "#and the actual flow rate through the LFOM.\n",
    "def flow_lfom_error(FLOW,HL_LFOM,drill_series_uom,SDR_LFOM):\n",
    "    N_lfom_orifices=fric_n_lfom_orifices(FLOW,HL_LFOM,drill_series_uom,SDR_LFOM)\n",
    "    FLOW_lfom_error=[]\n",
    "    for j in range (len(N_lfom_orifices)-1):\n",
    "        FLOW_lfom_error.append((flow_lfom_actual(FLOW,HL_LFOM,drill_series_uom,j,N_lfom_orifices)-flow_ramp(FLOW,HL_LFOM)[j])/FLOW)\n",
    "    return FLOW_lfom_error"
   ]
  },
  {
   "cell_type": "code",
   "execution_count": 86,
   "metadata": {},
   "outputs": [
    {
     "name": "stdout",
     "output_type": "stream",
     "text": [
      "[<Quantity(-0.1, 'dimensionless')>, <Quantity(-0.04281022675343118, 'dimensionless')>, <Quantity(-0.03014536546205875, 'dimensionless')>, <Quantity(-0.023627100599359574, 'dimensionless')>, <Quantity(-0.028341082805428908, 'dimensionless')>, <Quantity(-0.013856233840633347, 'dimensionless')>, <Quantity(-0.027031604731054416, 'dimensionless')>, <Quantity(-0.008034482759309292, 'dimensionless')>]\n"
     ]
    }
   ],
   "source": [
    "print(flow_lfom_error(FLOW,HL_LFOM,drill_series_uom,SDR_LFOM))"
   ]
  },
  {
   "cell_type": "code",
   "execution_count": 87,
   "metadata": {
    "collapsed": true
   },
   "outputs": [],
   "source": [
    "#This funciton returns the maximum error, the absolute value of the errors is take into account positive \n",
    "#and negative errors\n",
    "x= max(flow_lfom_error(FLOW,HL_LFOM,drill_series_uom,SDR_LFOM))\n",
    "y=x**2\n",
    "FLOW_LFOM_ERROR_MAX=y**1/2"
   ]
  },
  {
   "cell_type": "code",
   "execution_count": 88,
   "metadata": {},
   "outputs": [
    {
     "name": "stdout",
     "output_type": "stream",
     "text": [
      "3.227645660481912e-05 dimensionless\n"
     ]
    }
   ],
   "source": [
    "print (FLOW_LFOM_ERROR_MAX)"
   ]
  },
  {
   "cell_type": "code",
   "execution_count": 89,
   "metadata": {
    "collapsed": true
   },
   "outputs": [],
   "source": [
    "def flow_lfom_ideal(FLOW,HL_LFOM,H):\n",
    "    flow_lfom_ideal=(FLOW*H)/HL_LFOM\n",
    "    return flow_lfom_ideal"
   ]
  },
  {
   "cell_type": "code",
   "execution_count": 90,
   "metadata": {},
   "outputs": [
    {
     "name": "stdout",
     "output_type": "stream",
     "text": [
      "0.75 liter / centimeter / second\n"
     ]
    }
   ],
   "source": [
    "print (flow_lfom_ideal(FLOW,HL_LFOM,3))"
   ]
  },
  {
   "cell_type": "code",
   "execution_count": 91,
   "metadata": {
    "collapsed": true
   },
   "outputs": [],
   "source": [
    "def flow_lfom(FLOW,HL_LFOM,drill_series_uom,SDR_LFOM,H):\n",
    "    D_lfom_orifices=lfom_drillbit_diameter(FLOW,HL_LFOM,drill_series_uom)\n",
    "    H_submerged=np.arange(H-0.5*D_lfom_orifices,HL_LFOM,H-dist_center_lfom_rows(FLOW,HL_LFOM),dtype=object)\n",
    "    N_lfom_orifices=fric_n_lfom_orifices(FLOW,HL_LFOM,drill_series_uom,SDR_LFOM)\n",
    "    flow=[]\n",
    "    for i in range (len(H_submerged)):\n",
    "        flow.append(pc.flow_orifice_vert(D_lfom_orifices,H_submerged[i],ratio_VC_orifice)*N_lfom_orifices[i])\n",
    "    return sum (flow)"
   ]
  },
  {
   "cell_type": "code",
   "execution_count": 92,
   "metadata": {},
   "outputs": [
    {
     "name": "stdout",
     "output_type": "stream",
     "text": [
      "3.04063042951175 liter / second\n"
     ]
    }
   ],
   "source": [
    "print(flow_lfom(FLOW,HL_LFOM,drill_series_uom,SDR_LFOM,5*u.cm))"
   ]
  },
  {
   "cell_type": "code",
   "execution_count": 93,
   "metadata": {
    "collapsed": true
   },
   "outputs": [],
   "source": [
    "HEIGHT_LFOM_ORIFICES=height_lfom_orifices(FLOW,HL_LFOM,drill_series_uom)"
   ]
  },
  {
   "cell_type": "code",
   "execution_count": 94,
   "metadata": {
    "collapsed": true
   },
   "outputs": [],
   "source": [
    "if FLOW==1.6*(u.L/u.s):\n",
    "   NOM_DIAM_RAPID_MIX_pipe=2*u.inch\n",
    "else:\n",
    "   NOM_DIAM_RAPID_MIX_pipe=nom_diam_lfom_pipe(11*u.L/u.s,HL_LFOM,Pi_LFOM_safety,SDR_LFOM)"
   ]
  },
  {
   "cell_type": "code",
   "execution_count": 95,
   "metadata": {
    "collapsed": true
   },
   "outputs": [],
   "source": [
    "N_LFOM_ORIFICES=fric_n_lfom_orifices(FLOW,HL_LFOM,drill_series_uom,SDR_LFOM)"
   ]
  },
  {
   "cell_type": "code",
   "execution_count": 96,
   "metadata": {
    "collapsed": true
   },
   "outputs": [],
   "source": [
    "N_LFOM_ROWS=len(N_LFOM_ORIFICES)"
   ]
  },
  {
   "cell_type": "code",
   "execution_count": null,
   "metadata": {
    "collapsed": true
   },
   "outputs": [],
   "source": []
  }
 ],
 "metadata": {
  "kernelspec": {
   "display_name": "Python 3",
   "language": "python",
   "name": "python3"
  },
  "language_info": {
   "codemirror_mode": {
    "name": "ipython",
    "version": 3
   },
   "file_extension": ".py",
   "mimetype": "text/x-python",
   "name": "python",
   "nbconvert_exporter": "python",
   "pygments_lexer": "ipython3",
   "version": "3.6.1"
  }
 },
 "nbformat": 4,
 "nbformat_minor": 2
}
